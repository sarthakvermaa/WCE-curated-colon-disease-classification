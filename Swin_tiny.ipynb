{
  "cells": [
    {
      "cell_type": "markdown",
      "metadata": {
        "id": "Rm834G7iAaZR"
      },
      "source": [
        "# Swin-T for Image Classification (100 Epochs)\n",
        "\n",
        "This notebook demonstrates the **fine-tuning of Swin-Tiny Transformer** on a **custom multi-class dataset**. The model is trained using **transfer learning**, leveraging pre-trained ImageNet weights for feature extraction.\n",
        "\n",
        "## Key Features:\n",
        "- **Dataset:** Custom image dataset with 4 classes.\n",
        "- **Model:** Swin-Tiny (`swin_t` from torchvision).\n",
        "- **Optimizer:** AdamW / SGD (momentum-based).\n",
        "- **Training Duration:** 100 epochs.\n",
        "- **Performance Metrics:** Accuracy, F1-Score, Log Loss, Cohen's Kappa.\n"
      ]
    },
    {
      "cell_type": "code",
      "execution_count": null,
      "metadata": {
        "colab": {
          "base_uri": "https://localhost:8080/"
        },
        "execution": {
          "iopub.execute_input": "2025-02-26T04:43:46.903662Z",
          "iopub.status.busy": "2025-02-26T04:43:46.903344Z",
          "iopub.status.idle": "2025-02-26T04:43:50.993034Z",
          "shell.execute_reply": "2025-02-26T04:43:50.992234Z",
          "shell.execute_reply.started": "2025-02-26T04:43:46.903638Z"
        },
        "id": "vAdkWqVjWI_J",
        "outputId": "f9a59dbc-27f8-4ca7-9612-88b895b91bf6",
        "trusted": true
      },
      "outputs": [
        {
          "name": "stdout",
          "output_type": "stream",
          "text": [
            "Requirement already satisfied: opencv-python in /usr/local/lib/python3.10/dist-packages (4.10.0.84)\n",
            "Requirement already satisfied: tqdm in /usr/local/lib/python3.10/dist-packages (4.67.1)\n",
            "Requirement already satisfied: numpy>=1.21.2 in /usr/local/lib/python3.10/dist-packages (from opencv-python) (1.26.4)\n",
            "Requirement already satisfied: mkl_fft in /usr/local/lib/python3.10/dist-packages (from numpy>=1.21.2->opencv-python) (1.3.8)\n",
            "Requirement already satisfied: mkl_random in /usr/local/lib/python3.10/dist-packages (from numpy>=1.21.2->opencv-python) (1.2.4)\n",
            "Requirement already satisfied: mkl_umath in /usr/local/lib/python3.10/dist-packages (from numpy>=1.21.2->opencv-python) (0.1.1)\n",
            "Requirement already satisfied: mkl in /usr/local/lib/python3.10/dist-packages (from numpy>=1.21.2->opencv-python) (2025.0.1)\n",
            "Requirement already satisfied: tbb4py in /usr/local/lib/python3.10/dist-packages (from numpy>=1.21.2->opencv-python) (2022.0.0)\n",
            "Requirement already satisfied: mkl-service in /usr/local/lib/python3.10/dist-packages (from numpy>=1.21.2->opencv-python) (2.4.1)\n",
            "Requirement already satisfied: intel-openmp>=2024 in /usr/local/lib/python3.10/dist-packages (from mkl->numpy>=1.21.2->opencv-python) (2024.2.0)\n",
            "Requirement already satisfied: tbb==2022.* in /usr/local/lib/python3.10/dist-packages (from mkl->numpy>=1.21.2->opencv-python) (2022.0.0)\n",
            "Requirement already satisfied: tcmlib==1.* in /usr/local/lib/python3.10/dist-packages (from tbb==2022.*->mkl->numpy>=1.21.2->opencv-python) (1.2.0)\n",
            "Requirement already satisfied: intel-cmplr-lib-rt in /usr/local/lib/python3.10/dist-packages (from mkl_umath->numpy>=1.21.2->opencv-python) (2024.2.0)\n",
            "Requirement already satisfied: intel-cmplr-lib-ur==2024.2.0 in /usr/local/lib/python3.10/dist-packages (from intel-openmp>=2024->mkl->numpy>=1.21.2->opencv-python) (2024.2.0)\n"
          ]
        }
      ],
      "source": [
        "# Install necessary libraries\n",
        "!pip install opencv-python tqdm"
      ]
    },
    {
      "cell_type": "code",
      "execution_count": null,
      "metadata": {
        "execution": {
          "iopub.execute_input": "2025-02-26T04:43:50.994659Z",
          "iopub.status.busy": "2025-02-26T04:43:50.994339Z",
          "iopub.status.idle": "2025-02-26T04:43:50.998255Z",
          "shell.execute_reply": "2025-02-26T04:43:50.997357Z",
          "shell.execute_reply.started": "2025-02-26T04:43:50.994625Z"
        },
        "id": "jlGmTuHRRs8m",
        "trusted": true
      },
      "outputs": [],
      "source": [
        "# Mount Google Drive (if needed)\n",
        "# from google.colab import drive\n",
        "# drive.mount('/content/drive')"
      ]
    },
    {
      "cell_type": "code",
      "execution_count": 1,
      "metadata": {
        "execution": {
          "iopub.execute_input": "2025-02-26T04:43:51.000316Z",
          "iopub.status.busy": "2025-02-26T04:43:51.000124Z",
          "iopub.status.idle": "2025-02-26T04:43:57.976299Z",
          "shell.execute_reply": "2025-02-26T04:43:57.975683Z",
          "shell.execute_reply.started": "2025-02-26T04:43:51.000299Z"
        },
        "id": "VJ6_J4-MR3CP",
        "trusted": true
      },
      "outputs": [],
      "source": [
        "# Importing required libraries\n",
        "import torch\n",
        "import torch.nn as nn\n",
        "import torch.optim as optim\n",
        "import torchvision.transforms as transforms\n",
        "import torchvision.datasets as datasets\n",
        "import torchvision.models as models\n",
        "import matplotlib.pyplot as plt\n",
        "import numpy as np\n",
        "import seaborn as sns\n",
        "import os\n",
        "from torch.utils.data import DataLoader\n",
        "from sklearn.metrics import confusion_matrix, classification_report\n",
        "import cv2\n",
        "import torch.nn.functional as F\n",
        "import glob\n",
        "from tqdm import tqdm\n",
        "from collections import Counter\n",
        "from PIL import Image"
      ]
    },
    {
      "cell_type": "code",
      "execution_count": 5,
      "metadata": {},
      "outputs": [
        {
          "data": {
            "text/plain": [
              "3"
            ]
          },
          "execution_count": 5,
          "metadata": {},
          "output_type": "execute_result"
        }
      ],
      "source": [
        "pathl = \"../colon-endoscopy-dataset/\"\n",
        "\n",
        "pathl\n",
        "len(os.listdir(pathl))"
      ]
    },
    {
      "cell_type": "code",
      "execution_count": 14,
      "metadata": {
        "colab": {
          "base_uri": "https://localhost:8080/"
        },
        "execution": {
          "iopub.execute_input": "2025-02-26T04:43:57.977923Z",
          "iopub.status.busy": "2025-02-26T04:43:57.977541Z",
          "iopub.status.idle": "2025-02-26T04:43:58.074662Z",
          "shell.execute_reply": "2025-02-26T04:43:58.073787Z",
          "shell.execute_reply.started": "2025-02-26T04:43:57.977901Z"
        },
        "id": "BiStCdzTYp40",
        "outputId": "6011ee95-97d4-44ba-a093-631c0bfa0a06",
        "trusted": true
      },
      "outputs": [
        {
          "data": {
            "text/plain": [
              "200"
            ]
          },
          "execution_count": 14,
          "metadata": {},
          "output_type": "execute_result"
        }
      ],
      "source": [
        "# Defining paths\n",
        "DATA_DIR = \"../colon-endoscopy-dataset/\"\n",
        "INFERENCE_DIR = \"../colon-endoscopy-dataset/test\"\n",
        "OUTPUT_DIR = \"../image_processing_swin (Copy)\"\n",
        "BATCH_SIZE = 16\n",
        "NUM_EPOCHS = 100\n",
        "LEARNING_RATE = 0.0001\n",
        "IMAGE_SIZE = 224\n",
        "DEVICE = torch.device(\"cuda\" if torch.cuda.is_available() else \"cpu\")\n",
        "CLASS_NAMES = ['nor', 'ulc', 'pls', 'eps']\n",
        "NUM_CLASSES = len(CLASS_NAMES)\n",
        "\n",
        "len(os.listdir(INFERENCE_DIR+'/0_normal'))"
      ]
    },
    {
      "cell_type": "code",
      "execution_count": 15,
      "metadata": {
        "execution": {
          "iopub.execute_input": "2025-02-26T04:43:58.075886Z",
          "iopub.status.busy": "2025-02-26T04:43:58.075669Z",
          "iopub.status.idle": "2025-02-26T04:43:58.07941Z",
          "shell.execute_reply": "2025-02-26T04:43:58.078666Z",
          "shell.execute_reply.started": "2025-02-26T04:43:58.075868Z"
        },
        "id": "AdTeBEl8SuDG",
        "trusted": true
      },
      "outputs": [],
      "source": [
        "# Ensure output directory exists\n",
        "os.makedirs(OUTPUT_DIR, exist_ok=True)"
      ]
    },
    {
      "cell_type": "code",
      "execution_count": 16,
      "metadata": {
        "execution": {
          "iopub.execute_input": "2025-02-26T04:43:58.080527Z",
          "iopub.status.busy": "2025-02-26T04:43:58.08028Z",
          "iopub.status.idle": "2025-02-26T04:43:58.096296Z",
          "shell.execute_reply": "2025-02-26T04:43:58.095474Z",
          "shell.execute_reply.started": "2025-02-26T04:43:58.080508Z"
        },
        "id": "sEBso3w0SuRK",
        "trusted": true
      },
      "outputs": [],
      "source": [
        "# Define Data Augmentation with More Variations\n",
        "train_transforms = transforms.Compose([\n",
        "    transforms.Resize((IMAGE_SIZE, IMAGE_SIZE)),\n",
        "    transforms.RandomHorizontalFlip(p=0.5),\n",
        "    transforms.RandomRotation(15),\n",
        "    transforms.RandomAffine(degrees=10, translate=(0.1, 0.1), scale=(0.9, 1.1)),\n",
        "    transforms.ColorJitter(brightness=0.3, contrast=0.3, saturation=0.3),\n",
        "    transforms.ToTensor(),\n",
        "    transforms.Normalize([0.485, 0.456, 0.406], [0.229, 0.224, 0.225]),\n",
        "    transforms.RandomErasing(p=0.2)\n",
        "])\n",
        "\n",
        "valid_transforms = transforms.Compose([\n",
        "    transforms.Resize((IMAGE_SIZE, IMAGE_SIZE)),\n",
        "    transforms.ToTensor(),\n",
        "    transforms.Normalize([0.485, 0.456, 0.406], [0.229, 0.224, 0.225])\n",
        "])"
      ]
    },
    {
      "cell_type": "code",
      "execution_count": 17,
      "metadata": {
        "execution": {
          "iopub.execute_input": "2025-02-26T04:43:58.097388Z",
          "iopub.status.busy": "2025-02-26T04:43:58.097119Z",
          "iopub.status.idle": "2025-02-26T04:44:01.583303Z",
          "shell.execute_reply": "2025-02-26T04:44:01.582648Z",
          "shell.execute_reply.started": "2025-02-26T04:43:58.097357Z"
        },
        "id": "DN0Qounsnl6x",
        "trusted": true
      },
      "outputs": [],
      "source": [
        "# Compute Class Weights for Imbalanced Data\n",
        "train_dataset = datasets.ImageFolder(os.path.join(DATA_DIR, \"train\"))\n",
        "class_counts = Counter([label for _, label in train_dataset.samples])\n",
        "total_samples = sum(class_counts.values())\n",
        "class_weights = [total_samples / class_counts[i] for i in range(NUM_CLASSES)]\n",
        "class_weights = torch.tensor(class_weights, dtype=torch.float32).to(DEVICE)"
      ]
    },
    {
      "cell_type": "code",
      "execution_count": 18,
      "metadata": {
        "execution": {
          "iopub.execute_input": "2025-02-26T04:44:01.584214Z",
          "iopub.status.busy": "2025-02-26T04:44:01.583995Z",
          "iopub.status.idle": "2025-02-26T04:44:05.845449Z",
          "shell.execute_reply": "2025-02-26T04:44:05.844823Z",
          "shell.execute_reply.started": "2025-02-26T04:44:01.584195Z"
        },
        "id": "_ymt-bUbSweb",
        "trusted": true
      },
      "outputs": [],
      "source": [
        "# Load datasets with Updated Transforms\n",
        "train_dataset = datasets.ImageFolder(os.path.join(DATA_DIR, \"train\"), transform=train_transforms)\n",
        "valid_dataset = datasets.ImageFolder(os.path.join(DATA_DIR, \"val\"), transform=valid_transforms)\n",
        "test_dataset = datasets.ImageFolder(os.path.join(DATA_DIR, \"test\"), transform=valid_transforms)\n",
        "\n",
        "train_loader = DataLoader(train_dataset, batch_size=BATCH_SIZE, shuffle=True, num_workers=4)\n",
        "valid_loader = DataLoader(valid_dataset, batch_size=BATCH_SIZE, shuffle=False, num_workers=4)\n",
        "test_loader = DataLoader(test_dataset, batch_size=BATCH_SIZE, shuffle=False, num_workers=4)"
      ]
    },
    {
      "cell_type": "markdown",
      "metadata": {
        "id": "XS6YItWLAaZV"
      },
      "source": [
        "# Model Architecture - Swin-Tiny\n",
        "### **Why Swin-T?**\n",
        "**Better than CNNs** at capturing **global dependencies**.  \n",
        "**More efficient than ViTs** for high-resolution images.  \n",
        "**Pre-trained on ImageNet** → Requires fewer training samples.  \n"
      ]
    },
    {
      "cell_type": "code",
      "execution_count": 19,
      "metadata": {
        "colab": {
          "base_uri": "https://localhost:8080/"
        },
        "execution": {
          "iopub.execute_input": "2025-02-26T04:44:05.848108Z",
          "iopub.status.busy": "2025-02-26T04:44:05.847858Z",
          "iopub.status.idle": "2025-02-26T04:44:08.130912Z",
          "shell.execute_reply": "2025-02-26T04:44:08.130071Z",
          "shell.execute_reply.started": "2025-02-26T04:44:05.848087Z"
        },
        "id": "gFplGQRhRUba",
        "outputId": "ce82f0f6-a070-4522-cc31-e6873cf75c2d",
        "trusted": true
      },
      "outputs": [
        {
          "name": "stdout",
          "output_type": "stream",
          "text": [
            "MultiClassModel(\n",
            "  (model): SwinTransformer(\n",
            "    (features): Sequential(\n",
            "      (0): Sequential(\n",
            "        (0): Conv2d(3, 96, kernel_size=(4, 4), stride=(4, 4))\n",
            "        (1): Permute()\n",
            "        (2): LayerNorm((96,), eps=1e-05, elementwise_affine=True)\n",
            "      )\n",
            "      (1): Sequential(\n",
            "        (0): SwinTransformerBlock(\n",
            "          (norm1): LayerNorm((96,), eps=1e-05, elementwise_affine=True)\n",
            "          (attn): ShiftedWindowAttention(\n",
            "            (qkv): Linear(in_features=96, out_features=288, bias=True)\n",
            "            (proj): Linear(in_features=96, out_features=96, bias=True)\n",
            "          )\n",
            "          (stochastic_depth): StochasticDepth(p=0.0, mode=row)\n",
            "          (norm2): LayerNorm((96,), eps=1e-05, elementwise_affine=True)\n",
            "          (mlp): MLP(\n",
            "            (0): Linear(in_features=96, out_features=384, bias=True)\n",
            "            (1): GELU(approximate='none')\n",
            "            (2): Dropout(p=0.0, inplace=False)\n",
            "            (3): Linear(in_features=384, out_features=96, bias=True)\n",
            "            (4): Dropout(p=0.0, inplace=False)\n",
            "          )\n",
            "        )\n",
            "        (1): SwinTransformerBlock(\n",
            "          (norm1): LayerNorm((96,), eps=1e-05, elementwise_affine=True)\n",
            "          (attn): ShiftedWindowAttention(\n",
            "            (qkv): Linear(in_features=96, out_features=288, bias=True)\n",
            "            (proj): Linear(in_features=96, out_features=96, bias=True)\n",
            "          )\n",
            "          (stochastic_depth): StochasticDepth(p=0.018181818181818184, mode=row)\n",
            "          (norm2): LayerNorm((96,), eps=1e-05, elementwise_affine=True)\n",
            "          (mlp): MLP(\n",
            "            (0): Linear(in_features=96, out_features=384, bias=True)\n",
            "            (1): GELU(approximate='none')\n",
            "            (2): Dropout(p=0.0, inplace=False)\n",
            "            (3): Linear(in_features=384, out_features=96, bias=True)\n",
            "            (4): Dropout(p=0.0, inplace=False)\n",
            "          )\n",
            "        )\n",
            "      )\n",
            "      (2): PatchMerging(\n",
            "        (reduction): Linear(in_features=384, out_features=192, bias=False)\n",
            "        (norm): LayerNorm((384,), eps=1e-05, elementwise_affine=True)\n",
            "      )\n",
            "      (3): Sequential(\n",
            "        (0): SwinTransformerBlock(\n",
            "          (norm1): LayerNorm((192,), eps=1e-05, elementwise_affine=True)\n",
            "          (attn): ShiftedWindowAttention(\n",
            "            (qkv): Linear(in_features=192, out_features=576, bias=True)\n",
            "            (proj): Linear(in_features=192, out_features=192, bias=True)\n",
            "          )\n",
            "          (stochastic_depth): StochasticDepth(p=0.03636363636363637, mode=row)\n",
            "          (norm2): LayerNorm((192,), eps=1e-05, elementwise_affine=True)\n",
            "          (mlp): MLP(\n",
            "            (0): Linear(in_features=192, out_features=768, bias=True)\n",
            "            (1): GELU(approximate='none')\n",
            "            (2): Dropout(p=0.0, inplace=False)\n",
            "            (3): Linear(in_features=768, out_features=192, bias=True)\n",
            "            (4): Dropout(p=0.0, inplace=False)\n",
            "          )\n",
            "        )\n",
            "        (1): SwinTransformerBlock(\n",
            "          (norm1): LayerNorm((192,), eps=1e-05, elementwise_affine=True)\n",
            "          (attn): ShiftedWindowAttention(\n",
            "            (qkv): Linear(in_features=192, out_features=576, bias=True)\n",
            "            (proj): Linear(in_features=192, out_features=192, bias=True)\n",
            "          )\n",
            "          (stochastic_depth): StochasticDepth(p=0.05454545454545456, mode=row)\n",
            "          (norm2): LayerNorm((192,), eps=1e-05, elementwise_affine=True)\n",
            "          (mlp): MLP(\n",
            "            (0): Linear(in_features=192, out_features=768, bias=True)\n",
            "            (1): GELU(approximate='none')\n",
            "            (2): Dropout(p=0.0, inplace=False)\n",
            "            (3): Linear(in_features=768, out_features=192, bias=True)\n",
            "            (4): Dropout(p=0.0, inplace=False)\n",
            "          )\n",
            "        )\n",
            "      )\n",
            "      (4): PatchMerging(\n",
            "        (reduction): Linear(in_features=768, out_features=384, bias=False)\n",
            "        (norm): LayerNorm((768,), eps=1e-05, elementwise_affine=True)\n",
            "      )\n",
            "      (5): Sequential(\n",
            "        (0): SwinTransformerBlock(\n",
            "          (norm1): LayerNorm((384,), eps=1e-05, elementwise_affine=True)\n",
            "          (attn): ShiftedWindowAttention(\n",
            "            (qkv): Linear(in_features=384, out_features=1152, bias=True)\n",
            "            (proj): Linear(in_features=384, out_features=384, bias=True)\n",
            "          )\n",
            "          (stochastic_depth): StochasticDepth(p=0.07272727272727274, mode=row)\n",
            "          (norm2): LayerNorm((384,), eps=1e-05, elementwise_affine=True)\n",
            "          (mlp): MLP(\n",
            "            (0): Linear(in_features=384, out_features=1536, bias=True)\n",
            "            (1): GELU(approximate='none')\n",
            "            (2): Dropout(p=0.0, inplace=False)\n",
            "            (3): Linear(in_features=1536, out_features=384, bias=True)\n",
            "            (4): Dropout(p=0.0, inplace=False)\n",
            "          )\n",
            "        )\n",
            "        (1): SwinTransformerBlock(\n",
            "          (norm1): LayerNorm((384,), eps=1e-05, elementwise_affine=True)\n",
            "          (attn): ShiftedWindowAttention(\n",
            "            (qkv): Linear(in_features=384, out_features=1152, bias=True)\n",
            "            (proj): Linear(in_features=384, out_features=384, bias=True)\n",
            "          )\n",
            "          (stochastic_depth): StochasticDepth(p=0.09090909090909091, mode=row)\n",
            "          (norm2): LayerNorm((384,), eps=1e-05, elementwise_affine=True)\n",
            "          (mlp): MLP(\n",
            "            (0): Linear(in_features=384, out_features=1536, bias=True)\n",
            "            (1): GELU(approximate='none')\n",
            "            (2): Dropout(p=0.0, inplace=False)\n",
            "            (3): Linear(in_features=1536, out_features=384, bias=True)\n",
            "            (4): Dropout(p=0.0, inplace=False)\n",
            "          )\n",
            "        )\n",
            "        (2): SwinTransformerBlock(\n",
            "          (norm1): LayerNorm((384,), eps=1e-05, elementwise_affine=True)\n",
            "          (attn): ShiftedWindowAttention(\n",
            "            (qkv): Linear(in_features=384, out_features=1152, bias=True)\n",
            "            (proj): Linear(in_features=384, out_features=384, bias=True)\n",
            "          )\n",
            "          (stochastic_depth): StochasticDepth(p=0.10909090909090911, mode=row)\n",
            "          (norm2): LayerNorm((384,), eps=1e-05, elementwise_affine=True)\n",
            "          (mlp): MLP(\n",
            "            (0): Linear(in_features=384, out_features=1536, bias=True)\n",
            "            (1): GELU(approximate='none')\n",
            "            (2): Dropout(p=0.0, inplace=False)\n",
            "            (3): Linear(in_features=1536, out_features=384, bias=True)\n",
            "            (4): Dropout(p=0.0, inplace=False)\n",
            "          )\n",
            "        )\n",
            "        (3): SwinTransformerBlock(\n",
            "          (norm1): LayerNorm((384,), eps=1e-05, elementwise_affine=True)\n",
            "          (attn): ShiftedWindowAttention(\n",
            "            (qkv): Linear(in_features=384, out_features=1152, bias=True)\n",
            "            (proj): Linear(in_features=384, out_features=384, bias=True)\n",
            "          )\n",
            "          (stochastic_depth): StochasticDepth(p=0.1272727272727273, mode=row)\n",
            "          (norm2): LayerNorm((384,), eps=1e-05, elementwise_affine=True)\n",
            "          (mlp): MLP(\n",
            "            (0): Linear(in_features=384, out_features=1536, bias=True)\n",
            "            (1): GELU(approximate='none')\n",
            "            (2): Dropout(p=0.0, inplace=False)\n",
            "            (3): Linear(in_features=1536, out_features=384, bias=True)\n",
            "            (4): Dropout(p=0.0, inplace=False)\n",
            "          )\n",
            "        )\n",
            "        (4): SwinTransformerBlock(\n",
            "          (norm1): LayerNorm((384,), eps=1e-05, elementwise_affine=True)\n",
            "          (attn): ShiftedWindowAttention(\n",
            "            (qkv): Linear(in_features=384, out_features=1152, bias=True)\n",
            "            (proj): Linear(in_features=384, out_features=384, bias=True)\n",
            "          )\n",
            "          (stochastic_depth): StochasticDepth(p=0.14545454545454548, mode=row)\n",
            "          (norm2): LayerNorm((384,), eps=1e-05, elementwise_affine=True)\n",
            "          (mlp): MLP(\n",
            "            (0): Linear(in_features=384, out_features=1536, bias=True)\n",
            "            (1): GELU(approximate='none')\n",
            "            (2): Dropout(p=0.0, inplace=False)\n",
            "            (3): Linear(in_features=1536, out_features=384, bias=True)\n",
            "            (4): Dropout(p=0.0, inplace=False)\n",
            "          )\n",
            "        )\n",
            "        (5): SwinTransformerBlock(\n",
            "          (norm1): LayerNorm((384,), eps=1e-05, elementwise_affine=True)\n",
            "          (attn): ShiftedWindowAttention(\n",
            "            (qkv): Linear(in_features=384, out_features=1152, bias=True)\n",
            "            (proj): Linear(in_features=384, out_features=384, bias=True)\n",
            "          )\n",
            "          (stochastic_depth): StochasticDepth(p=0.16363636363636364, mode=row)\n",
            "          (norm2): LayerNorm((384,), eps=1e-05, elementwise_affine=True)\n",
            "          (mlp): MLP(\n",
            "            (0): Linear(in_features=384, out_features=1536, bias=True)\n",
            "            (1): GELU(approximate='none')\n",
            "            (2): Dropout(p=0.0, inplace=False)\n",
            "            (3): Linear(in_features=1536, out_features=384, bias=True)\n",
            "            (4): Dropout(p=0.0, inplace=False)\n",
            "          )\n",
            "        )\n",
            "      )\n",
            "      (6): PatchMerging(\n",
            "        (reduction): Linear(in_features=1536, out_features=768, bias=False)\n",
            "        (norm): LayerNorm((1536,), eps=1e-05, elementwise_affine=True)\n",
            "      )\n",
            "      (7): Sequential(\n",
            "        (0): SwinTransformerBlock(\n",
            "          (norm1): LayerNorm((768,), eps=1e-05, elementwise_affine=True)\n",
            "          (attn): ShiftedWindowAttention(\n",
            "            (qkv): Linear(in_features=768, out_features=2304, bias=True)\n",
            "            (proj): Linear(in_features=768, out_features=768, bias=True)\n",
            "          )\n",
            "          (stochastic_depth): StochasticDepth(p=0.18181818181818182, mode=row)\n",
            "          (norm2): LayerNorm((768,), eps=1e-05, elementwise_affine=True)\n",
            "          (mlp): MLP(\n",
            "            (0): Linear(in_features=768, out_features=3072, bias=True)\n",
            "            (1): GELU(approximate='none')\n",
            "            (2): Dropout(p=0.0, inplace=False)\n",
            "            (3): Linear(in_features=3072, out_features=768, bias=True)\n",
            "            (4): Dropout(p=0.0, inplace=False)\n",
            "          )\n",
            "        )\n",
            "        (1): SwinTransformerBlock(\n",
            "          (norm1): LayerNorm((768,), eps=1e-05, elementwise_affine=True)\n",
            "          (attn): ShiftedWindowAttention(\n",
            "            (qkv): Linear(in_features=768, out_features=2304, bias=True)\n",
            "            (proj): Linear(in_features=768, out_features=768, bias=True)\n",
            "          )\n",
            "          (stochastic_depth): StochasticDepth(p=0.2, mode=row)\n",
            "          (norm2): LayerNorm((768,), eps=1e-05, elementwise_affine=True)\n",
            "          (mlp): MLP(\n",
            "            (0): Linear(in_features=768, out_features=3072, bias=True)\n",
            "            (1): GELU(approximate='none')\n",
            "            (2): Dropout(p=0.0, inplace=False)\n",
            "            (3): Linear(in_features=3072, out_features=768, bias=True)\n",
            "            (4): Dropout(p=0.0, inplace=False)\n",
            "          )\n",
            "        )\n",
            "      )\n",
            "    )\n",
            "    (norm): LayerNorm((768,), eps=1e-05, elementwise_affine=True)\n",
            "    (permute): Permute()\n",
            "    (avgpool): AdaptiveAvgPool2d(output_size=1)\n",
            "    (flatten): Flatten(start_dim=1, end_dim=-1)\n",
            "    (head): Linear(in_features=768, out_features=4, bias=True)\n",
            "  )\n",
            ")\n"
          ]
        }
      ],
      "source": [
        "class MultiClassModel(nn.Module):\n",
        "    def __init__(self, num_classes):\n",
        "        super(MultiClassModel, self).__init__()\n",
        "        self.model = models.swin_t(weights=models.Swin_T_Weights.DEFAULT)  # Load Swin-T with pretrained weights\n",
        "        self.model.head = nn.Linear(768, num_classes)\n",
        "\n",
        "    def forward(self, x):\n",
        "        return self.model(x)  # Forward pass through Swin-T\n",
        "\n",
        "# Example Usage\n",
        "num_classes = 4\n",
        "model = MultiClassModel(num_classes).to(\"cuda\" if torch.cuda.is_available() else \"cpu\")\n",
        "\n",
        "# Define Loss, Optimizer, and Scheduler\n",
        "criterion = nn.CrossEntropyLoss(weight=class_weights)\n",
        "optimizer = optim.SGD(model.parameters(), lr=0.001, momentum=0.9, weight_decay=1e-4)\n",
        "scheduler = optim.lr_scheduler.StepLR(optimizer, step_size=10, gamma=0.5)\n",
        "\n",
        "print(model)"
      ]
    },
    {
      "cell_type": "markdown",
      "metadata": {
        "id": "a9wH6HUWAaZW"
      },
      "source": [
        "# Training & Optimization\n",
        "\n",
        "## Loss Function & Optimizer:\n",
        "- **Loss Function:** `CrossEntropyLoss` for multi-class classification.\n",
        "- **Optimizer:** `AdamW` (better weight decay handling).\n",
        "- **Scheduler:** `StepLR` (reduces LR dynamically every 10 epochs)."
      ]
    },
    {
      "cell_type": "code",
      "execution_count": null,
      "metadata": {
        "execution": {
          "iopub.execute_input": "2025-02-26T04:44:08.136677Z",
          "iopub.status.busy": "2025-02-26T04:44:08.136431Z",
          "iopub.status.idle": "2025-02-26T04:44:08.83228Z",
          "shell.execute_reply": "2025-02-26T04:44:08.831618Z",
          "shell.execute_reply.started": "2025-02-26T04:44:08.136657Z"
        },
        "id": "4KlhH3_NTfvA",
        "trusted": true
      },
      "outputs": [],
      "source": [
        "# Initialize Model, Loss, Optimizer, and Scheduler\n",
        "model = MultiClassModel(NUM_CLASSES).to(DEVICE)\n",
        "criterion = nn.CrossEntropyLoss(weight=class_weights)  # Use class-weighted loss\n",
        "optimizer = optim.AdamW(model.parameters(), lr=LEARNING_RATE)  # AdamW for better regularization\n",
        "scheduler = optim.lr_scheduler.ReduceLROnPlateau(optimizer, mode='min', factor=0.5, patience=5)"
      ]
    },
    {
      "cell_type": "code",
      "execution_count": null,
      "metadata": {
        "execution": {
          "iopub.execute_input": "2025-02-26T04:44:08.833292Z",
          "iopub.status.busy": "2025-02-26T04:44:08.833058Z",
          "iopub.status.idle": "2025-02-26T04:44:08.843712Z",
          "shell.execute_reply": "2025-02-26T04:44:08.842781Z",
          "shell.execute_reply.started": "2025-02-26T04:44:08.833272Z"
        },
        "id": "lpXxnmIxThfK",
        "trusted": true
      },
      "outputs": [],
      "source": [
        "import csv\n",
        "import os\n",
        "import numpy as np\n",
        "import torch\n",
        "\n",
        "def train_and_validate():\n",
        "    best_valid_loss = float('inf')\n",
        "    best_epoch = 0\n",
        "    train_losses, valid_losses = [], []\n",
        "    train_accuracies, valid_accuracies = [], []\n",
        "\n",
        "    # CSV file path\n",
        "    csv_file_path = os.path.join(OUTPUT_DIR, \"training_logs.csv\")\n",
        "\n",
        "    # Write header for CSV file\n",
        "    with open(csv_file_path, mode=\"w\", newline=\"\") as file:\n",
        "        writer = csv.writer(file)\n",
        "        writer.writerow([\"Epoch\", \"Train Loss\", \"Train Accuracy\", \"Validation Loss\", \"Validation Accuracy\", \"Best Epoch\"])\n",
        "\n",
        "    for epoch in range(NUM_EPOCHS):\n",
        "        print(f\"[INFO]: Epoch {epoch+1} of {NUM_EPOCHS}\")\n",
        "        model.train()\n",
        "        train_loss, train_correct = 0, 0\n",
        "\n",
        "        for images, labels in tqdm(train_loader, desc=\"Training\", leave=False):\n",
        "            images, labels = images.to(DEVICE), labels.to(DEVICE)\n",
        "            optimizer.zero_grad()\n",
        "            outputs = model(images)\n",
        "            loss = criterion(outputs, labels)\n",
        "            loss.backward()\n",
        "            optimizer.step()\n",
        "            train_loss += loss.item()\n",
        "            train_correct += (outputs.argmax(1) == labels).sum().item()\n",
        "\n",
        "        train_loss /= len(train_loader)\n",
        "        train_acc = 100. * train_correct / len(train_loader.dataset)\n",
        "        train_losses.append(train_loss)\n",
        "        train_accuracies.append(train_acc)\n",
        "\n",
        "        # Validation Phase\n",
        "        model.eval()\n",
        "        valid_loss, valid_correct = 0, 0\n",
        "        y_true, y_pred = [], []\n",
        "\n",
        "        with torch.no_grad():\n",
        "            for images, labels in tqdm(valid_loader, desc=\"Validation\", leave=False):\n",
        "                images, labels = images.to(DEVICE), labels.to(DEVICE)\n",
        "                outputs = model(images)\n",
        "                loss = criterion(outputs, labels)\n",
        "                valid_loss += loss.item()\n",
        "                valid_correct += (outputs.argmax(1) == labels).sum().item()\n",
        "                y_true.extend(labels.cpu().numpy())\n",
        "                y_pred.extend(outputs.argmax(1).cpu().numpy())\n",
        "\n",
        "        valid_loss /= len(valid_loader)\n",
        "        valid_acc = 100. * valid_correct / len(valid_loader.dataset)\n",
        "        valid_losses.append(valid_loss)\n",
        "        valid_accuracies.append(valid_acc)\n",
        "\n",
        "        # Reduce Learning Rate if needed\n",
        "        scheduler.step(valid_loss)\n",
        "\n",
        "        print(f\"Training loss: {train_loss:.3f}, Training acc: {train_acc:.3f}%\")\n",
        "        print(f\"Validation loss: {valid_loss:.3f}, Validation acc: {valid_acc:.3f}%\")\n",
        "\n",
        "        # Update Best Epoch if a new lowest validation loss is found\n",
        "        if valid_loss < best_valid_loss:\n",
        "            best_valid_loss = valid_loss\n",
        "            best_epoch = epoch + 1\n",
        "            torch.save(model.state_dict(), os.path.join(OUTPUT_DIR, \"swin_model_v4.pth\"))\n",
        "            print(f\"Best model saved at epoch {best_epoch} with validation loss {best_valid_loss:.6f}\")\n",
        "\n",
        "        # Append epoch data along with best epoch to CSV\n",
        "        with open(csv_file_path, mode=\"a\", newline=\"\") as file:\n",
        "            writer = csv.writer(file)\n",
        "            writer.writerow([epoch+1, train_loss, train_acc, valid_loss, valid_acc, best_epoch])\n",
        "\n",
        "    # Save y_true and y_pred as NumPy arrays after training\n",
        "    np.save(os.path.join(OUTPUT_DIR, \"y_true.npy\"), np.array(y_true))\n",
        "    np.save(os.path.join(OUTPUT_DIR, \"y_pred.npy\"), np.array(y_pred))\n",
        "\n",
        "    print(f\"\\nFinal Best Epoch: {best_epoch}\")\n",
        "\n",
        "    return train_losses, valid_losses, train_accuracies, valid_accuracies, y_true, y_pred, best_epoch"
      ]
    },
    {
      "cell_type": "code",
      "execution_count": null,
      "metadata": {
        "colab": {
          "base_uri": "https://localhost:8080/"
        },
        "execution": {
          "iopub.execute_input": "2025-02-26T04:44:08.844913Z",
          "iopub.status.busy": "2025-02-26T04:44:08.844613Z",
          "iopub.status.idle": "2025-02-26T06:34:22.026006Z",
          "shell.execute_reply": "2025-02-26T06:34:22.024965Z",
          "shell.execute_reply.started": "2025-02-26T04:44:08.844884Z"
        },
        "id": "eDif0A0hTrZO",
        "outputId": "64573294-0294-412e-fc29-ba966b9326e3",
        "trusted": true
      },
      "outputs": [
        {
          "name": "stdout",
          "output_type": "stream",
          "text": [
            "[INFO]: Epoch 1 of 100\n"
          ]
        },
        {
          "name": "stderr",
          "output_type": "stream",
          "text": [
            "                                                             \r"
          ]
        },
        {
          "name": "stdout",
          "output_type": "stream",
          "text": [
            "Training loss: 0.191, Training acc: 92.969%\n",
            "Validation loss: 0.067, Validation acc: 97.900%\n",
            "Best model saved at epoch 1 with validation loss 0.067458\n",
            "[INFO]: Epoch 2 of 100\n"
          ]
        },
        {
          "name": "stderr",
          "output_type": "stream",
          "text": [
            "                                                             \r"
          ]
        },
        {
          "name": "stdout",
          "output_type": "stream",
          "text": [
            "Training loss: 0.065, Training acc: 98.000%\n",
            "Validation loss: 0.148, Validation acc: 93.300%\n",
            "[INFO]: Epoch 3 of 100\n"
          ]
        },
        {
          "name": "stderr",
          "output_type": "stream",
          "text": [
            "                                                             \r"
          ]
        },
        {
          "name": "stdout",
          "output_type": "stream",
          "text": [
            "Training loss: 0.054, Training acc: 98.344%\n",
            "Validation loss: 0.073, Validation acc: 97.500%\n",
            "[INFO]: Epoch 4 of 100\n"
          ]
        },
        {
          "name": "stderr",
          "output_type": "stream",
          "text": [
            "                                                             \r"
          ]
        },
        {
          "name": "stdout",
          "output_type": "stream",
          "text": [
            "Training loss: 0.046, Training acc: 98.188%\n",
            "Validation loss: 0.155, Validation acc: 95.500%\n",
            "[INFO]: Epoch 5 of 100\n"
          ]
        },
        {
          "name": "stderr",
          "output_type": "stream",
          "text": [
            "                                                             \r"
          ]
        },
        {
          "name": "stdout",
          "output_type": "stream",
          "text": [
            "Training loss: 0.048, Training acc: 98.344%\n",
            "Validation loss: 0.058, Validation acc: 98.300%\n",
            "Best model saved at epoch 5 with validation loss 0.057722\n",
            "[INFO]: Epoch 6 of 100\n"
          ]
        },
        {
          "name": "stderr",
          "output_type": "stream",
          "text": [
            "                                                             \r"
          ]
        },
        {
          "name": "stdout",
          "output_type": "stream",
          "text": [
            "Training loss: 0.040, Training acc: 98.719%\n",
            "Validation loss: 0.090, Validation acc: 97.000%\n",
            "[INFO]: Epoch 7 of 100\n"
          ]
        },
        {
          "name": "stderr",
          "output_type": "stream",
          "text": [
            "                                                             \r"
          ]
        },
        {
          "name": "stdout",
          "output_type": "stream",
          "text": [
            "Training loss: 0.030, Training acc: 98.844%\n",
            "Validation loss: 0.063, Validation acc: 98.000%\n",
            "[INFO]: Epoch 8 of 100\n"
          ]
        },
        {
          "name": "stderr",
          "output_type": "stream",
          "text": [
            "                                                             \r"
          ]
        },
        {
          "name": "stdout",
          "output_type": "stream",
          "text": [
            "Training loss: 0.028, Training acc: 99.031%\n",
            "Validation loss: 0.055, Validation acc: 98.200%\n",
            "Best model saved at epoch 8 with validation loss 0.055471\n",
            "[INFO]: Epoch 9 of 100\n"
          ]
        },
        {
          "name": "stderr",
          "output_type": "stream",
          "text": [
            "                                                             \r"
          ]
        },
        {
          "name": "stdout",
          "output_type": "stream",
          "text": [
            "Training loss: 0.029, Training acc: 99.000%\n",
            "Validation loss: 0.048, Validation acc: 98.400%\n",
            "Best model saved at epoch 9 with validation loss 0.048492\n",
            "[INFO]: Epoch 10 of 100\n"
          ]
        },
        {
          "name": "stderr",
          "output_type": "stream",
          "text": [
            "                                                             \r"
          ]
        },
        {
          "name": "stdout",
          "output_type": "stream",
          "text": [
            "Training loss: 0.019, Training acc: 99.125%\n",
            "Validation loss: 0.076, Validation acc: 97.600%\n",
            "[INFO]: Epoch 11 of 100\n"
          ]
        },
        {
          "name": "stderr",
          "output_type": "stream",
          "text": [
            "                                                             \r"
          ]
        },
        {
          "name": "stdout",
          "output_type": "stream",
          "text": [
            "Training loss: 0.033, Training acc: 99.000%\n",
            "Validation loss: 0.107, Validation acc: 96.250%\n",
            "[INFO]: Epoch 12 of 100\n"
          ]
        },
        {
          "name": "stderr",
          "output_type": "stream",
          "text": [
            "                                                             \r"
          ]
        },
        {
          "name": "stdout",
          "output_type": "stream",
          "text": [
            "Training loss: 0.020, Training acc: 99.375%\n",
            "Validation loss: 0.070, Validation acc: 97.700%\n",
            "[INFO]: Epoch 13 of 100\n"
          ]
        },
        {
          "name": "stderr",
          "output_type": "stream",
          "text": [
            "                                                             \r"
          ]
        },
        {
          "name": "stdout",
          "output_type": "stream",
          "text": [
            "Training loss: 0.029, Training acc: 98.875%\n",
            "Validation loss: 0.101, Validation acc: 97.250%\n",
            "[INFO]: Epoch 14 of 100\n"
          ]
        },
        {
          "name": "stderr",
          "output_type": "stream",
          "text": [
            "                                                             \r"
          ]
        },
        {
          "name": "stdout",
          "output_type": "stream",
          "text": [
            "Training loss: 0.024, Training acc: 99.344%\n",
            "Validation loss: 0.060, Validation acc: 98.100%\n",
            "[INFO]: Epoch 15 of 100\n"
          ]
        },
        {
          "name": "stderr",
          "output_type": "stream",
          "text": [
            "                                                             \r"
          ]
        },
        {
          "name": "stdout",
          "output_type": "stream",
          "text": [
            "Training loss: 0.020, Training acc: 99.188%\n",
            "Validation loss: 0.185, Validation acc: 93.300%\n",
            "[INFO]: Epoch 16 of 100\n"
          ]
        },
        {
          "name": "stderr",
          "output_type": "stream",
          "text": [
            "                                                             \r"
          ]
        },
        {
          "name": "stdout",
          "output_type": "stream",
          "text": [
            "Training loss: 0.009, Training acc: 99.656%\n",
            "Validation loss: 0.034, Validation acc: 98.800%\n",
            "Best model saved at epoch 16 with validation loss 0.034041\n",
            "[INFO]: Epoch 17 of 100\n"
          ]
        },
        {
          "name": "stderr",
          "output_type": "stream",
          "text": [
            "                                                             \r"
          ]
        },
        {
          "name": "stdout",
          "output_type": "stream",
          "text": [
            "Training loss: 0.010, Training acc: 99.625%\n",
            "Validation loss: 0.028, Validation acc: 99.200%\n",
            "Best model saved at epoch 17 with validation loss 0.027603\n",
            "[INFO]: Epoch 18 of 100\n"
          ]
        },
        {
          "name": "stderr",
          "output_type": "stream",
          "text": [
            "                                                             \r"
          ]
        },
        {
          "name": "stdout",
          "output_type": "stream",
          "text": [
            "Training loss: 0.009, Training acc: 99.688%\n",
            "Validation loss: 0.114, Validation acc: 97.150%\n",
            "[INFO]: Epoch 19 of 100\n"
          ]
        },
        {
          "name": "stderr",
          "output_type": "stream",
          "text": [
            "                                                             \r"
          ]
        },
        {
          "name": "stdout",
          "output_type": "stream",
          "text": [
            "Training loss: 0.008, Training acc: 99.656%\n",
            "Validation loss: 0.046, Validation acc: 98.700%\n",
            "[INFO]: Epoch 20 of 100\n"
          ]
        },
        {
          "name": "stderr",
          "output_type": "stream",
          "text": [
            "                                                             \r"
          ]
        },
        {
          "name": "stdout",
          "output_type": "stream",
          "text": [
            "Training loss: 0.010, Training acc: 99.594%\n",
            "Validation loss: 0.040, Validation acc: 98.950%\n",
            "[INFO]: Epoch 21 of 100\n"
          ]
        },
        {
          "name": "stderr",
          "output_type": "stream",
          "text": [
            "                                                             \r"
          ]
        },
        {
          "name": "stdout",
          "output_type": "stream",
          "text": [
            "Training loss: 0.016, Training acc: 99.375%\n",
            "Validation loss: 0.073, Validation acc: 97.550%\n",
            "[INFO]: Epoch 22 of 100\n"
          ]
        },
        {
          "name": "stderr",
          "output_type": "stream",
          "text": [
            "                                                             \r"
          ]
        },
        {
          "name": "stdout",
          "output_type": "stream",
          "text": [
            "Training loss: 0.015, Training acc: 99.531%\n",
            "Validation loss: 0.049, Validation acc: 98.600%\n",
            "[INFO]: Epoch 23 of 100\n"
          ]
        },
        {
          "name": "stderr",
          "output_type": "stream",
          "text": [
            "                                                             \r"
          ]
        },
        {
          "name": "stdout",
          "output_type": "stream",
          "text": [
            "Training loss: 0.011, Training acc: 99.656%\n",
            "Validation loss: 0.044, Validation acc: 98.900%\n",
            "[INFO]: Epoch 24 of 100\n"
          ]
        },
        {
          "name": "stderr",
          "output_type": "stream",
          "text": [
            "                                                             \r"
          ]
        },
        {
          "name": "stdout",
          "output_type": "stream",
          "text": [
            "Training loss: 0.004, Training acc: 99.844%\n",
            "Validation loss: 0.069, Validation acc: 98.350%\n",
            "[INFO]: Epoch 25 of 100\n"
          ]
        },
        {
          "name": "stderr",
          "output_type": "stream",
          "text": [
            "                                                             \r"
          ]
        },
        {
          "name": "stdout",
          "output_type": "stream",
          "text": [
            "Training loss: 0.006, Training acc: 99.844%\n",
            "Validation loss: 0.063, Validation acc: 98.200%\n",
            "[INFO]: Epoch 26 of 100\n"
          ]
        },
        {
          "name": "stderr",
          "output_type": "stream",
          "text": [
            "                                                             \r"
          ]
        },
        {
          "name": "stdout",
          "output_type": "stream",
          "text": [
            "Training loss: 0.004, Training acc: 99.875%\n",
            "Validation loss: 0.094, Validation acc: 97.600%\n",
            "[INFO]: Epoch 27 of 100\n"
          ]
        },
        {
          "name": "stderr",
          "output_type": "stream",
          "text": [
            "                                                             \r"
          ]
        },
        {
          "name": "stdout",
          "output_type": "stream",
          "text": [
            "Training loss: 0.004, Training acc: 99.812%\n",
            "Validation loss: 0.060, Validation acc: 98.600%\n",
            "[INFO]: Epoch 28 of 100\n"
          ]
        },
        {
          "name": "stderr",
          "output_type": "stream",
          "text": [
            "                                                             \r"
          ]
        },
        {
          "name": "stdout",
          "output_type": "stream",
          "text": [
            "Training loss: 0.003, Training acc: 99.906%\n",
            "Validation loss: 0.065, Validation acc: 98.550%\n",
            "[INFO]: Epoch 29 of 100\n"
          ]
        },
        {
          "name": "stderr",
          "output_type": "stream",
          "text": [
            "                                                             \r"
          ]
        },
        {
          "name": "stdout",
          "output_type": "stream",
          "text": [
            "Training loss: 0.001, Training acc: 99.969%\n",
            "Validation loss: 0.077, Validation acc: 98.500%\n",
            "[INFO]: Epoch 30 of 100\n"
          ]
        },
        {
          "name": "stderr",
          "output_type": "stream",
          "text": [
            "                                                             \r"
          ]
        },
        {
          "name": "stdout",
          "output_type": "stream",
          "text": [
            "Training loss: 0.002, Training acc: 99.938%\n",
            "Validation loss: 0.072, Validation acc: 98.350%\n",
            "[INFO]: Epoch 31 of 100\n"
          ]
        },
        {
          "name": "stderr",
          "output_type": "stream",
          "text": [
            "                                                             \r"
          ]
        },
        {
          "name": "stdout",
          "output_type": "stream",
          "text": [
            "Training loss: 0.001, Training acc: 99.969%\n",
            "Validation loss: 0.086, Validation acc: 98.250%\n",
            "[INFO]: Epoch 32 of 100\n"
          ]
        },
        {
          "name": "stderr",
          "output_type": "stream",
          "text": [
            "                                                             \r"
          ]
        },
        {
          "name": "stdout",
          "output_type": "stream",
          "text": [
            "Training loss: 0.003, Training acc: 99.875%\n",
            "Validation loss: 0.038, Validation acc: 99.200%\n",
            "[INFO]: Epoch 33 of 100\n"
          ]
        },
        {
          "name": "stderr",
          "output_type": "stream",
          "text": [
            "                                                             \r"
          ]
        },
        {
          "name": "stdout",
          "output_type": "stream",
          "text": [
            "Training loss: 0.002, Training acc: 99.938%\n",
            "Validation loss: 0.136, Validation acc: 97.250%\n",
            "[INFO]: Epoch 34 of 100\n"
          ]
        },
        {
          "name": "stderr",
          "output_type": "stream",
          "text": [
            "                                                             \r"
          ]
        },
        {
          "name": "stdout",
          "output_type": "stream",
          "text": [
            "Training loss: 0.001, Training acc: 99.969%\n",
            "Validation loss: 0.050, Validation acc: 99.100%\n",
            "[INFO]: Epoch 35 of 100\n"
          ]
        },
        {
          "name": "stderr",
          "output_type": "stream",
          "text": [
            "                                                             \r"
          ]
        },
        {
          "name": "stdout",
          "output_type": "stream",
          "text": [
            "Training loss: 0.005, Training acc: 99.844%\n",
            "Validation loss: 0.069, Validation acc: 98.750%\n",
            "[INFO]: Epoch 36 of 100\n"
          ]
        },
        {
          "name": "stderr",
          "output_type": "stream",
          "text": [
            "                                                             \r"
          ]
        },
        {
          "name": "stdout",
          "output_type": "stream",
          "text": [
            "Training loss: 0.001, Training acc: 100.000%\n",
            "Validation loss: 0.086, Validation acc: 98.350%\n",
            "[INFO]: Epoch 37 of 100\n"
          ]
        },
        {
          "name": "stderr",
          "output_type": "stream",
          "text": [
            "                                                             \r"
          ]
        },
        {
          "name": "stdout",
          "output_type": "stream",
          "text": [
            "Training loss: 0.002, Training acc: 99.938%\n",
            "Validation loss: 0.061, Validation acc: 98.950%\n",
            "[INFO]: Epoch 38 of 100\n"
          ]
        },
        {
          "name": "stderr",
          "output_type": "stream",
          "text": [
            "                                                             \r"
          ]
        },
        {
          "name": "stdout",
          "output_type": "stream",
          "text": [
            "Training loss: 0.001, Training acc: 99.938%\n",
            "Validation loss: 0.070, Validation acc: 98.850%\n",
            "[INFO]: Epoch 39 of 100\n"
          ]
        },
        {
          "name": "stderr",
          "output_type": "stream",
          "text": [
            "                                                             \r"
          ]
        },
        {
          "name": "stdout",
          "output_type": "stream",
          "text": [
            "Training loss: 0.001, Training acc: 99.938%\n",
            "Validation loss: 0.093, Validation acc: 98.350%\n",
            "[INFO]: Epoch 40 of 100\n"
          ]
        },
        {
          "name": "stderr",
          "output_type": "stream",
          "text": [
            "                                                             \r"
          ]
        },
        {
          "name": "stdout",
          "output_type": "stream",
          "text": [
            "Training loss: 0.003, Training acc: 99.938%\n",
            "Validation loss: 0.086, Validation acc: 98.300%\n",
            "[INFO]: Epoch 41 of 100\n"
          ]
        },
        {
          "name": "stderr",
          "output_type": "stream",
          "text": [
            "                                                             \r"
          ]
        },
        {
          "name": "stdout",
          "output_type": "stream",
          "text": [
            "Training loss: 0.003, Training acc: 99.875%\n",
            "Validation loss: 0.068, Validation acc: 98.700%\n",
            "[INFO]: Epoch 42 of 100\n"
          ]
        },
        {
          "name": "stderr",
          "output_type": "stream",
          "text": [
            "                                                             \r"
          ]
        },
        {
          "name": "stdout",
          "output_type": "stream",
          "text": [
            "Training loss: 0.001, Training acc: 99.906%\n",
            "Validation loss: 0.074, Validation acc: 98.400%\n",
            "[INFO]: Epoch 43 of 100\n"
          ]
        },
        {
          "name": "stderr",
          "output_type": "stream",
          "text": [
            "                                                             \r"
          ]
        },
        {
          "name": "stdout",
          "output_type": "stream",
          "text": [
            "Training loss: 0.002, Training acc: 99.938%\n",
            "Validation loss: 0.062, Validation acc: 98.800%\n",
            "[INFO]: Epoch 44 of 100\n"
          ]
        },
        {
          "name": "stderr",
          "output_type": "stream",
          "text": [
            "                                                             \r"
          ]
        },
        {
          "name": "stdout",
          "output_type": "stream",
          "text": [
            "Training loss: 0.005, Training acc: 99.875%\n",
            "Validation loss: 0.092, Validation acc: 98.250%\n",
            "[INFO]: Epoch 45 of 100\n"
          ]
        },
        {
          "name": "stderr",
          "output_type": "stream",
          "text": [
            "                                                             \r"
          ]
        },
        {
          "name": "stdout",
          "output_type": "stream",
          "text": [
            "Training loss: 0.001, Training acc: 99.969%\n",
            "Validation loss: 0.092, Validation acc: 98.250%\n",
            "[INFO]: Epoch 46 of 100\n"
          ]
        },
        {
          "name": "stderr",
          "output_type": "stream",
          "text": [
            "                                                             \r"
          ]
        },
        {
          "name": "stdout",
          "output_type": "stream",
          "text": [
            "Training loss: 0.002, Training acc: 99.969%\n",
            "Validation loss: 0.077, Validation acc: 98.400%\n",
            "[INFO]: Epoch 47 of 100\n"
          ]
        },
        {
          "name": "stderr",
          "output_type": "stream",
          "text": [
            "                                                             \r"
          ]
        },
        {
          "name": "stdout",
          "output_type": "stream",
          "text": [
            "Training loss: 0.000, Training acc: 100.000%\n",
            "Validation loss: 0.077, Validation acc: 98.400%\n",
            "[INFO]: Epoch 48 of 100\n"
          ]
        },
        {
          "name": "stderr",
          "output_type": "stream",
          "text": [
            "                                                             \r"
          ]
        },
        {
          "name": "stdout",
          "output_type": "stream",
          "text": [
            "Training loss: 0.004, Training acc: 99.969%\n",
            "Validation loss: 0.069, Validation acc: 98.650%\n",
            "[INFO]: Epoch 49 of 100\n"
          ]
        },
        {
          "name": "stderr",
          "output_type": "stream",
          "text": [
            "                                                             \r"
          ]
        },
        {
          "name": "stdout",
          "output_type": "stream",
          "text": [
            "Training loss: 0.001, Training acc: 99.969%\n",
            "Validation loss: 0.065, Validation acc: 98.750%\n",
            "[INFO]: Epoch 50 of 100\n"
          ]
        },
        {
          "name": "stderr",
          "output_type": "stream",
          "text": [
            "                                                             \r"
          ]
        },
        {
          "name": "stdout",
          "output_type": "stream",
          "text": [
            "Training loss: 0.001, Training acc: 99.969%\n",
            "Validation loss: 0.084, Validation acc: 98.300%\n",
            "[INFO]: Epoch 51 of 100\n"
          ]
        },
        {
          "name": "stderr",
          "output_type": "stream",
          "text": [
            "                                                             \r"
          ]
        },
        {
          "name": "stdout",
          "output_type": "stream",
          "text": [
            "Training loss: 0.001, Training acc: 99.938%\n",
            "Validation loss: 0.079, Validation acc: 98.350%\n",
            "[INFO]: Epoch 52 of 100\n"
          ]
        },
        {
          "name": "stderr",
          "output_type": "stream",
          "text": [
            "                                                             \r"
          ]
        },
        {
          "name": "stdout",
          "output_type": "stream",
          "text": [
            "Training loss: 0.001, Training acc: 99.969%\n",
            "Validation loss: 0.088, Validation acc: 98.250%\n",
            "[INFO]: Epoch 53 of 100\n"
          ]
        },
        {
          "name": "stderr",
          "output_type": "stream",
          "text": [
            "                                                             \r"
          ]
        },
        {
          "name": "stdout",
          "output_type": "stream",
          "text": [
            "Training loss: 0.002, Training acc: 99.906%\n",
            "Validation loss: 0.079, Validation acc: 98.400%\n",
            "[INFO]: Epoch 54 of 100\n"
          ]
        },
        {
          "name": "stderr",
          "output_type": "stream",
          "text": [
            "                                                             \r"
          ]
        },
        {
          "name": "stdout",
          "output_type": "stream",
          "text": [
            "Training loss: 0.001, Training acc: 99.969%\n",
            "Validation loss: 0.074, Validation acc: 98.450%\n",
            "[INFO]: Epoch 55 of 100\n"
          ]
        },
        {
          "name": "stderr",
          "output_type": "stream",
          "text": [
            "                                                             \r"
          ]
        },
        {
          "name": "stdout",
          "output_type": "stream",
          "text": [
            "Training loss: 0.003, Training acc: 99.906%\n",
            "Validation loss: 0.080, Validation acc: 98.400%\n",
            "[INFO]: Epoch 56 of 100\n"
          ]
        },
        {
          "name": "stderr",
          "output_type": "stream",
          "text": [
            "                                                             \r"
          ]
        },
        {
          "name": "stdout",
          "output_type": "stream",
          "text": [
            "Training loss: 0.001, Training acc: 99.969%\n",
            "Validation loss: 0.084, Validation acc: 98.350%\n",
            "[INFO]: Epoch 57 of 100\n"
          ]
        },
        {
          "name": "stderr",
          "output_type": "stream",
          "text": [
            "                                                             \r"
          ]
        },
        {
          "name": "stdout",
          "output_type": "stream",
          "text": [
            "Training loss: 0.000, Training acc: 100.000%\n",
            "Validation loss: 0.081, Validation acc: 98.400%\n",
            "[INFO]: Epoch 58 of 100\n"
          ]
        },
        {
          "name": "stderr",
          "output_type": "stream",
          "text": [
            "                                                             \r"
          ]
        },
        {
          "name": "stdout",
          "output_type": "stream",
          "text": [
            "Training loss: 0.001, Training acc: 99.969%\n",
            "Validation loss: 0.084, Validation acc: 98.350%\n",
            "[INFO]: Epoch 59 of 100\n"
          ]
        },
        {
          "name": "stderr",
          "output_type": "stream",
          "text": [
            "                                                             \r"
          ]
        },
        {
          "name": "stdout",
          "output_type": "stream",
          "text": [
            "Training loss: 0.000, Training acc: 100.000%\n",
            "Validation loss: 0.081, Validation acc: 98.400%\n",
            "[INFO]: Epoch 60 of 100\n"
          ]
        },
        {
          "name": "stderr",
          "output_type": "stream",
          "text": [
            "                                                             \r"
          ]
        },
        {
          "name": "stdout",
          "output_type": "stream",
          "text": [
            "Training loss: 0.001, Training acc: 99.938%\n",
            "Validation loss: 0.081, Validation acc: 98.400%\n",
            "[INFO]: Epoch 61 of 100\n"
          ]
        },
        {
          "name": "stderr",
          "output_type": "stream",
          "text": [
            "                                                             \r"
          ]
        },
        {
          "name": "stdout",
          "output_type": "stream",
          "text": [
            "Training loss: 0.002, Training acc: 99.938%\n",
            "Validation loss: 0.078, Validation acc: 98.400%\n",
            "[INFO]: Epoch 62 of 100\n"
          ]
        },
        {
          "name": "stderr",
          "output_type": "stream",
          "text": [
            "                                                             \r"
          ]
        },
        {
          "name": "stdout",
          "output_type": "stream",
          "text": [
            "Training loss: 0.001, Training acc: 99.969%\n",
            "Validation loss: 0.079, Validation acc: 98.400%\n",
            "[INFO]: Epoch 63 of 100\n"
          ]
        },
        {
          "name": "stderr",
          "output_type": "stream",
          "text": [
            "                                                             \r"
          ]
        },
        {
          "name": "stdout",
          "output_type": "stream",
          "text": [
            "Training loss: 0.002, Training acc: 99.938%\n",
            "Validation loss: 0.080, Validation acc: 98.400%\n",
            "[INFO]: Epoch 64 of 100\n"
          ]
        },
        {
          "name": "stderr",
          "output_type": "stream",
          "text": [
            "                                                             \r"
          ]
        },
        {
          "name": "stdout",
          "output_type": "stream",
          "text": [
            "Training loss: 0.001, Training acc: 99.938%\n",
            "Validation loss: 0.081, Validation acc: 98.400%\n",
            "[INFO]: Epoch 65 of 100\n"
          ]
        },
        {
          "name": "stderr",
          "output_type": "stream",
          "text": [
            "                                                             \r"
          ]
        },
        {
          "name": "stdout",
          "output_type": "stream",
          "text": [
            "Training loss: 0.002, Training acc: 99.906%\n",
            "Validation loss: 0.075, Validation acc: 98.450%\n",
            "[INFO]: Epoch 66 of 100\n"
          ]
        },
        {
          "name": "stderr",
          "output_type": "stream",
          "text": [
            "                                                             \r"
          ]
        },
        {
          "name": "stdout",
          "output_type": "stream",
          "text": [
            "Training loss: 0.002, Training acc: 99.938%\n",
            "Validation loss: 0.077, Validation acc: 98.400%\n",
            "[INFO]: Epoch 67 of 100\n"
          ]
        },
        {
          "name": "stderr",
          "output_type": "stream",
          "text": [
            "                                                             \r"
          ]
        },
        {
          "name": "stdout",
          "output_type": "stream",
          "text": [
            "Training loss: 0.001, Training acc: 99.938%\n",
            "Validation loss: 0.078, Validation acc: 98.400%\n",
            "[INFO]: Epoch 68 of 100\n"
          ]
        },
        {
          "name": "stderr",
          "output_type": "stream",
          "text": [
            "                                                             \r"
          ]
        },
        {
          "name": "stdout",
          "output_type": "stream",
          "text": [
            "Training loss: 0.000, Training acc: 99.969%\n",
            "Validation loss: 0.078, Validation acc: 98.400%\n",
            "[INFO]: Epoch 69 of 100\n"
          ]
        },
        {
          "name": "stderr",
          "output_type": "stream",
          "text": [
            "                                                             \r"
          ]
        },
        {
          "name": "stdout",
          "output_type": "stream",
          "text": [
            "Training loss: 0.001, Training acc: 99.938%\n",
            "Validation loss: 0.078, Validation acc: 98.400%\n",
            "[INFO]: Epoch 70 of 100\n"
          ]
        },
        {
          "name": "stderr",
          "output_type": "stream",
          "text": [
            "                                                             \r"
          ]
        },
        {
          "name": "stdout",
          "output_type": "stream",
          "text": [
            "Training loss: 0.003, Training acc: 99.969%\n",
            "Validation loss: 0.078, Validation acc: 98.400%\n",
            "[INFO]: Epoch 71 of 100\n"
          ]
        },
        {
          "name": "stderr",
          "output_type": "stream",
          "text": [
            "                                                             \r"
          ]
        },
        {
          "name": "stdout",
          "output_type": "stream",
          "text": [
            "Training loss: 0.001, Training acc: 100.000%\n",
            "Validation loss: 0.079, Validation acc: 98.400%\n",
            "[INFO]: Epoch 72 of 100\n"
          ]
        },
        {
          "name": "stderr",
          "output_type": "stream",
          "text": [
            "                                                             \r"
          ]
        },
        {
          "name": "stdout",
          "output_type": "stream",
          "text": [
            "Training loss: 0.001, Training acc: 99.969%\n",
            "Validation loss: 0.079, Validation acc: 98.400%\n",
            "[INFO]: Epoch 73 of 100\n"
          ]
        },
        {
          "name": "stderr",
          "output_type": "stream",
          "text": [
            "                                                             \r"
          ]
        },
        {
          "name": "stdout",
          "output_type": "stream",
          "text": [
            "Training loss: 0.000, Training acc: 100.000%\n",
            "Validation loss: 0.079, Validation acc: 98.400%\n",
            "[INFO]: Epoch 74 of 100\n"
          ]
        },
        {
          "name": "stderr",
          "output_type": "stream",
          "text": [
            "                                                             \r"
          ]
        },
        {
          "name": "stdout",
          "output_type": "stream",
          "text": [
            "Training loss: 0.001, Training acc: 99.969%\n",
            "Validation loss: 0.079, Validation acc: 98.400%\n",
            "[INFO]: Epoch 75 of 100\n"
          ]
        },
        {
          "name": "stderr",
          "output_type": "stream",
          "text": [
            "                                                             \r"
          ]
        },
        {
          "name": "stdout",
          "output_type": "stream",
          "text": [
            "Training loss: 0.001, Training acc: 99.969%\n",
            "Validation loss: 0.078, Validation acc: 98.400%\n",
            "[INFO]: Epoch 76 of 100\n"
          ]
        },
        {
          "name": "stderr",
          "output_type": "stream",
          "text": [
            "                                                             \r"
          ]
        },
        {
          "name": "stdout",
          "output_type": "stream",
          "text": [
            "Training loss: 0.001, Training acc: 100.000%\n",
            "Validation loss: 0.078, Validation acc: 98.400%\n",
            "[INFO]: Epoch 77 of 100\n"
          ]
        },
        {
          "name": "stderr",
          "output_type": "stream",
          "text": [
            "                                                             \r"
          ]
        },
        {
          "name": "stdout",
          "output_type": "stream",
          "text": [
            "Training loss: 0.000, Training acc: 100.000%\n",
            "Validation loss: 0.077, Validation acc: 98.400%\n",
            "[INFO]: Epoch 78 of 100\n"
          ]
        },
        {
          "name": "stderr",
          "output_type": "stream",
          "text": [
            "                                                             \r"
          ]
        },
        {
          "name": "stdout",
          "output_type": "stream",
          "text": [
            "Training loss: 0.000, Training acc: 100.000%\n",
            "Validation loss: 0.077, Validation acc: 98.400%\n",
            "[INFO]: Epoch 79 of 100\n"
          ]
        },
        {
          "name": "stderr",
          "output_type": "stream",
          "text": [
            "                                                             \r"
          ]
        },
        {
          "name": "stdout",
          "output_type": "stream",
          "text": [
            "Training loss: 0.000, Training acc: 100.000%\n",
            "Validation loss: 0.077, Validation acc: 98.400%\n",
            "[INFO]: Epoch 80 of 100\n"
          ]
        },
        {
          "name": "stderr",
          "output_type": "stream",
          "text": [
            "                                                             \r"
          ]
        },
        {
          "name": "stdout",
          "output_type": "stream",
          "text": [
            "Training loss: 0.001, Training acc: 100.000%\n",
            "Validation loss: 0.076, Validation acc: 98.450%\n",
            "[INFO]: Epoch 81 of 100\n"
          ]
        },
        {
          "name": "stderr",
          "output_type": "stream",
          "text": [
            "                                                             \r"
          ]
        },
        {
          "name": "stdout",
          "output_type": "stream",
          "text": [
            "Training loss: 0.001, Training acc: 99.938%\n",
            "Validation loss: 0.076, Validation acc: 98.450%\n",
            "[INFO]: Epoch 82 of 100\n"
          ]
        },
        {
          "name": "stderr",
          "output_type": "stream",
          "text": [
            "                                                             \r"
          ]
        },
        {
          "name": "stdout",
          "output_type": "stream",
          "text": [
            "Training loss: 0.002, Training acc: 99.938%\n",
            "Validation loss: 0.075, Validation acc: 98.450%\n",
            "[INFO]: Epoch 83 of 100\n"
          ]
        },
        {
          "name": "stderr",
          "output_type": "stream",
          "text": [
            "                                                             \r"
          ]
        },
        {
          "name": "stdout",
          "output_type": "stream",
          "text": [
            "Training loss: 0.000, Training acc: 100.000%\n",
            "Validation loss: 0.076, Validation acc: 98.450%\n",
            "[INFO]: Epoch 84 of 100\n"
          ]
        },
        {
          "name": "stderr",
          "output_type": "stream",
          "text": [
            "                                                             \r"
          ]
        },
        {
          "name": "stdout",
          "output_type": "stream",
          "text": [
            "Training loss: 0.003, Training acc: 99.969%\n",
            "Validation loss: 0.076, Validation acc: 98.450%\n",
            "[INFO]: Epoch 85 of 100\n"
          ]
        },
        {
          "name": "stderr",
          "output_type": "stream",
          "text": [
            "                                                             \r"
          ]
        },
        {
          "name": "stdout",
          "output_type": "stream",
          "text": [
            "Training loss: 0.001, Training acc: 99.938%\n",
            "Validation loss: 0.075, Validation acc: 98.450%\n",
            "[INFO]: Epoch 86 of 100\n"
          ]
        },
        {
          "name": "stderr",
          "output_type": "stream",
          "text": [
            "                                                             \r"
          ]
        },
        {
          "name": "stdout",
          "output_type": "stream",
          "text": [
            "Training loss: 0.000, Training acc: 100.000%\n",
            "Validation loss: 0.075, Validation acc: 98.450%\n",
            "[INFO]: Epoch 87 of 100\n"
          ]
        },
        {
          "name": "stderr",
          "output_type": "stream",
          "text": [
            "                                                             \r"
          ]
        },
        {
          "name": "stdout",
          "output_type": "stream",
          "text": [
            "Training loss: 0.001, Training acc: 99.969%\n",
            "Validation loss: 0.075, Validation acc: 98.450%\n",
            "[INFO]: Epoch 88 of 100\n"
          ]
        },
        {
          "name": "stderr",
          "output_type": "stream",
          "text": [
            "                                                             \r"
          ]
        },
        {
          "name": "stdout",
          "output_type": "stream",
          "text": [
            "Training loss: 0.000, Training acc: 100.000%\n",
            "Validation loss: 0.075, Validation acc: 98.450%\n",
            "[INFO]: Epoch 89 of 100\n"
          ]
        },
        {
          "name": "stderr",
          "output_type": "stream",
          "text": [
            "                                                             \r"
          ]
        },
        {
          "name": "stdout",
          "output_type": "stream",
          "text": [
            "Training loss: 0.002, Training acc: 99.938%\n",
            "Validation loss: 0.075, Validation acc: 98.450%\n",
            "[INFO]: Epoch 90 of 100\n"
          ]
        },
        {
          "name": "stderr",
          "output_type": "stream",
          "text": [
            "                                                             \r"
          ]
        },
        {
          "name": "stdout",
          "output_type": "stream",
          "text": [
            "Training loss: 0.001, Training acc: 99.969%\n",
            "Validation loss: 0.075, Validation acc: 98.450%\n",
            "[INFO]: Epoch 91 of 100\n"
          ]
        },
        {
          "name": "stderr",
          "output_type": "stream",
          "text": [
            "                                                             \r"
          ]
        },
        {
          "name": "stdout",
          "output_type": "stream",
          "text": [
            "Training loss: 0.002, Training acc: 99.938%\n",
            "Validation loss: 0.075, Validation acc: 98.450%\n",
            "[INFO]: Epoch 92 of 100\n"
          ]
        },
        {
          "name": "stderr",
          "output_type": "stream",
          "text": [
            "                                                             \r"
          ]
        },
        {
          "name": "stdout",
          "output_type": "stream",
          "text": [
            "Training loss: 0.002, Training acc: 99.938%\n",
            "Validation loss: 0.075, Validation acc: 98.450%\n",
            "[INFO]: Epoch 93 of 100\n"
          ]
        },
        {
          "name": "stderr",
          "output_type": "stream",
          "text": [
            "                                                             \r"
          ]
        },
        {
          "name": "stdout",
          "output_type": "stream",
          "text": [
            "Training loss: 0.002, Training acc: 99.969%\n",
            "Validation loss: 0.075, Validation acc: 98.450%\n",
            "[INFO]: Epoch 94 of 100\n"
          ]
        },
        {
          "name": "stderr",
          "output_type": "stream",
          "text": [
            "                                                             \r"
          ]
        },
        {
          "name": "stdout",
          "output_type": "stream",
          "text": [
            "Training loss: 0.001, Training acc: 99.938%\n",
            "Validation loss: 0.075, Validation acc: 98.450%\n",
            "[INFO]: Epoch 95 of 100\n"
          ]
        },
        {
          "name": "stderr",
          "output_type": "stream",
          "text": [
            "                                                             \r"
          ]
        },
        {
          "name": "stdout",
          "output_type": "stream",
          "text": [
            "Training loss: 0.001, Training acc: 99.938%\n",
            "Validation loss: 0.075, Validation acc: 98.450%\n",
            "[INFO]: Epoch 96 of 100\n"
          ]
        },
        {
          "name": "stderr",
          "output_type": "stream",
          "text": [
            "                                                             \r"
          ]
        },
        {
          "name": "stdout",
          "output_type": "stream",
          "text": [
            "Training loss: 0.000, Training acc: 100.000%\n",
            "Validation loss: 0.075, Validation acc: 98.450%\n",
            "[INFO]: Epoch 97 of 100\n"
          ]
        },
        {
          "name": "stderr",
          "output_type": "stream",
          "text": [
            "                                                             \r"
          ]
        },
        {
          "name": "stdout",
          "output_type": "stream",
          "text": [
            "Training loss: 0.001, Training acc: 99.969%\n",
            "Validation loss: 0.075, Validation acc: 98.450%\n",
            "[INFO]: Epoch 98 of 100\n"
          ]
        },
        {
          "name": "stderr",
          "output_type": "stream",
          "text": [
            "                                                             \r"
          ]
        },
        {
          "name": "stdout",
          "output_type": "stream",
          "text": [
            "Training loss: 0.001, Training acc: 99.969%\n",
            "Validation loss: 0.075, Validation acc: 98.450%\n",
            "[INFO]: Epoch 99 of 100\n"
          ]
        },
        {
          "name": "stderr",
          "output_type": "stream",
          "text": [
            "                                                             \r"
          ]
        },
        {
          "name": "stdout",
          "output_type": "stream",
          "text": [
            "Training loss: 0.001, Training acc: 99.969%\n",
            "Validation loss: 0.075, Validation acc: 98.450%\n",
            "[INFO]: Epoch 100 of 100\n"
          ]
        },
        {
          "name": "stderr",
          "output_type": "stream",
          "text": [
            "                                                             "
          ]
        },
        {
          "name": "stdout",
          "output_type": "stream",
          "text": [
            "Training loss: 0.003, Training acc: 99.938%\n",
            "Validation loss: 0.075, Validation acc: 98.450%\n",
            "\n",
            "Final Best Epoch: 17\n"
          ]
        },
        {
          "name": "stderr",
          "output_type": "stream",
          "text": [
            "\r"
          ]
        }
      ],
      "source": [
        "# Train Model\n",
        "train_losses, valid_losses, train_accuracies, valid_accuracies, y_true, y_pred, best_epoch = train_and_validate()"
      ]
    },
    {
      "cell_type": "code",
      "execution_count": 22,
      "metadata": {
        "execution": {
          "iopub.execute_input": "2025-02-26T06:44:38.081603Z",
          "iopub.status.busy": "2025-02-26T06:44:38.081224Z",
          "iopub.status.idle": "2025-02-26T06:44:38.594629Z",
          "shell.execute_reply": "2025-02-26T06:44:38.593804Z",
          "shell.execute_reply.started": "2025-02-26T06:44:38.081557Z"
        },
        "id": "EOVzkk_DAaZX",
        "outputId": "075a62da-dd9e-4050-9d30-d2f49cd97dce",
        "trusted": true
      },
      "outputs": [
        {
          "data": {
            "image/png": "[encoded data removed]",
            "text/plain": [
              "<Figure size 400x300 with 1 Axes>"
            ]
          },
          "metadata": {},
          "output_type": "display_data"
        }
      ],
      "source": [
        "import pandas as pd\n",
        "\n",
        "# Load training log CSV file\n",
        "csv_file_path = os.path.join(OUTPUT_DIR, \"training_logs.csv\")\n",
        "df = pd.read_csv(csv_file_path)\n",
        "\n",
        "# Extract data\n",
        "epochs = df[\"Epoch\"].values\n",
        "train_accuracies = df[\"Train Accuracy\"].values\n",
        "valid_accuracies = df[\"Validation Accuracy\"].values\n",
        "best_epoch = np.argmin(df[\"Validation Loss\"].values) + 1\n",
        "\n",
        "# Plot Accuracy Curve\n",
        "plt.figure(figsize=(4, 3))\n",
        "plt.plot(epochs, train_accuracies, label=\"Train Accuracy\", color='brown', linewidth=1.5)\n",
        "plt.plot(epochs, valid_accuracies, label=\"Validation Accuracy\", color='blue', linewidth=1.5)\n",
        "plt.axvline(best_epoch, color='r', linestyle='--', linewidth=1, label=f\"Best Epoch: {best_epoch}\")\n",
        "plt.ylim(90, 100.2)\n",
        "plt.xlabel(\"Epochs\", fontsize=12)\n",
        "plt.ylabel(\"Accuracy (%)\", fontsize=12)\n",
        "plt.title(\"Model Accuracy\", fontsize=14)\n",
        "plt.legend(fontsize=10, loc=\"lower right\")\n",
        "plt.grid(alpha=0.3)\n",
        "plt.savefig(os.path.join(OUTPUT_DIR, 'accuracy_plot.png'), dpi=300, bbox_inches=\"tight\")\n",
        "plt.show()\n"
      ]
    },
    {
      "cell_type": "code",
      "execution_count": 23,
      "metadata": {
        "execution": {
          "iopub.execute_input": "2025-02-26T06:44:56.091992Z",
          "iopub.status.busy": "2025-02-26T06:44:56.091695Z",
          "iopub.status.idle": "2025-02-26T06:44:56.567485Z",
          "shell.execute_reply": "2025-02-26T06:44:56.566626Z",
          "shell.execute_reply.started": "2025-02-26T06:44:56.091971Z"
        },
        "id": "I6USKG3VAaZX",
        "outputId": "189563d8-fed2-4bcd-f40d-2a62eb80b86b",
        "trusted": true
      },
      "outputs": [
        {
          "data": {
            "image/png": "[encoded data removed]",
            "text/plain": [
              "<Figure size 400x300 with 1 Axes>"
            ]
          },
          "metadata": {},
          "output_type": "display_data"
        }
      ],
      "source": [
        "# Load training log CSV file\n",
        "csv_file_path = os.path.join(OUTPUT_DIR, \"training_logs.csv\")\n",
        "df = pd.read_csv(csv_file_path)\n",
        "\n",
        "# Extract data\n",
        "epochs = df[\"Epoch\"].values\n",
        "train_losses = df[\"Train Loss\"].values\n",
        "valid_losses = df[\"Validation Loss\"].values\n",
        "best_epoch = np.argmin(valid_losses) + 1\n",
        "\n",
        "# Plot Loss Curve\n",
        "plt.figure(figsize=(4, 3))\n",
        "plt.plot(epochs, train_losses, label=\"Train Loss\", color='brown', linewidth=1.5)\n",
        "plt.plot(epochs, valid_losses, label=\"Validation Loss\", color='blue', linewidth=1.5)\n",
        "plt.axvline(best_epoch, color='r', linestyle='--', linewidth=1, label=f\"Best Epoch: {best_epoch}\")\n",
        "plt.ylim(-0.01, 0.5)\n",
        "plt.xlabel(\"Epochs\", fontsize=12)\n",
        "plt.ylabel(\"Loss\", fontsize=12)\n",
        "plt.title(\"Model Loss\", fontsize=14)\n",
        "plt.legend(fontsize=10, loc=\"upper right\")\n",
        "plt.grid(alpha=0.3)\n",
        "plt.savefig(os.path.join(OUTPUT_DIR, 'loss_plot.png'), dpi=300, bbox_inches=\"tight\")\n",
        "plt.show()\n"
      ]
    },
    {
      "cell_type": "code",
      "execution_count": null,
      "metadata": {
        "execution": {
          "iopub.execute_input": "2025-02-26T06:34:23.044815Z",
          "iopub.status.busy": "2025-02-26T06:34:23.044457Z",
          "iopub.status.idle": "2025-02-26T06:34:23.172663Z",
          "shell.execute_reply": "2025-02-26T06:34:23.171807Z",
          "shell.execute_reply.started": "2025-02-26T06:34:23.04478Z"
        },
        "id": "S5LW-x1mAaZX",
        "outputId": "8b5933f3-69e8-4d48-b519-a4bc395cd145",
        "trusted": true
      },
      "outputs": [
        {
          "data": {
            "image/png": "[encoded data removed]",
            "text/plain": [
              "<Figure size 400x400 with 1 Axes>"
            ]
          },
          "metadata": {},
          "output_type": "display_data"
        }
      ],
      "source": [
        "# Load y_true and y_pred\n",
        "y_true_path = os.path.join(OUTPUT_DIR, \"y_true.npy\")\n",
        "y_pred_path = os.path.join(OUTPUT_DIR, \"y_pred.npy\")\n",
        "\n",
        "y_true = np.load(y_true_path)\n",
        "y_pred = np.load(y_pred_path)\n",
        "\n",
        "# Define class names\n",
        "CLASS_NAMES = [\"nor\", \"ulc\", \"pls\", \"eps\"]\n",
        "\n",
        "# Compute Confusion Matrix\n",
        "cm = confusion_matrix(y_true, y_pred)\n",
        "\n",
        "# Plot Confusion Matrix\n",
        "plt.figure(figsize=(4, 4))\n",
        "sns.heatmap(cm, annot=True, fmt=\"d\", cmap=\"Blues\", xticklabels=CLASS_NAMES, yticklabels=CLASS_NAMES, cbar=False, annot_kws={\"size\": 12})\n",
        "\n",
        "# Labels and title\n",
        "plt.xlabel(\"Predicted\", fontsize=12)\n",
        "plt.ylabel(\"Actual\", fontsize=12)\n",
        "plt.title(\"Confusion Matrix\", fontsize=14)\n",
        "plt.xticks(fontsize=10)\n",
        "plt.yticks(fontsize=10)\n",
        "\n",
        "plt.show()\n"
      ]
    },
    {
      "cell_type": "markdown",
      "metadata": {
        "id": "PfQvuTcVAaZX"
      },
      "source": [
        "# Model Evaluation & Results\n",
        "\n",
        "We evaluate the model using **Accuracy, F1-Score, Log Loss, and Cohen’s Kappa**.\n",
        "\n",
        "## Key Metrics:\n",
        "| **Metric** | **Score** |\n",
        "|------------|----------|\n",
        "| **Accuracy** | 99.00% |\n",
        "| **F1-Score** | 99.00% |\n",
        "| **Log Loss** | 4.34% |\n",
        "| **Kappa Score** | 98.67% |\n"
      ]
    },
    {
      "cell_type": "code",
      "execution_count": null,
      "metadata": {
        "colab": {
          "base_uri": "https://localhost:8080/"
        },
        "execution": {
          "iopub.execute_input": "2025-02-26T06:34:23.173731Z",
          "iopub.status.busy": "2025-02-26T06:34:23.173433Z",
          "iopub.status.idle": "2025-02-26T06:34:29.170518Z",
          "shell.execute_reply": "2025-02-26T06:34:29.169765Z",
          "shell.execute_reply.started": "2025-02-26T06:34:23.173708Z"
        },
        "id": "hy__bdyIoyF0",
        "outputId": "76c3514d-bd31-4666-8d50-a3793f84627c",
        "trusted": true
      },
      "outputs": [
        {
          "name": "stderr",
          "output_type": "stream",
          "text": [
            "<ipython-input-17-df084807b4fc>:10: FutureWarning: You are using `torch.load` with `weights_only=False` (the current default value), which uses the default pickle module implicitly. It is possible to construct malicious pickle data which will execute arbitrary code during unpickling (See https://github.com/pytorch/pytorch/blob/main/SECURITY.md#untrusted-models for more details). In a future release, the default value for `weights_only` will be flipped to `True`. This limits the functions that could be executed during unpickling. Arbitrary objects will no longer be allowed to be loaded via this mode unless they are explicitly allowlisted by the user via `torch.serialization.add_safe_globals`. We recommend you start setting `weights_only=True` for any use case where you don't have full control of the loaded file. Please open an issue on GitHub for any issues related to this experimental feature.\n",
            "  model.load_state_dict(torch.load(os.path.join(OUTPUT_DIR, \"swin_model_v4.pth\")))\n"
          ]
        },
        {
          "name": "stdout",
          "output_type": "stream",
          "text": [
            "\n",
            " **Per-Class Performance:**\n",
            "              precision    recall  f1-score   support\n",
            "\n",
            "         nor     1.0000    1.0000    1.0000       200\n",
            "         ulc     0.9706    0.9900    0.9802       200\n",
            "         pls     0.9898    0.9700    0.9798       200\n",
            "         eps     1.0000    1.0000    1.0000       200\n",
            "\n",
            "    accuracy                         0.9900       800\n",
            "   macro avg     0.9901    0.9900    0.9900       800\n",
            "weighted avg     0.9901    0.9900    0.9900       800\n",
            "\n",
            "\n",
            " **Overall Metrics:**\n",
            " Accuracy: 0.9900\n",
            " Log Loss: 0.0434\n",
            " Cohen's Kappa Score: 0.9867\n",
            "\n",
            "Saved test labels and predictions as .npy files for further analysis.\n"
          ]
        }
      ],
      "source": [
        "from sklearn.metrics import classification_report, accuracy_score, cohen_kappa_score, log_loss\n",
        "import numpy as np\n",
        "import os\n",
        "import torch.nn.functional as F\n",
        "\n",
        "# Ensure OUTPUT_DIR exists\n",
        "os.makedirs(OUTPUT_DIR, exist_ok=True)\n",
        "\n",
        "# Load Best Model\n",
        "model.load_state_dict(torch.load(os.path.join(OUTPUT_DIR, \"swin_model_v4.pth\")))\n",
        "model.eval()\n",
        "\n",
        "y_true_test, y_pred_test, y_probs = [], [], []\n",
        "\n",
        "# Evaluate the Model\n",
        "with torch.no_grad():\n",
        "    for images, labels in test_loader:\n",
        "        images, labels = images.to(DEVICE), labels.to(DEVICE)\n",
        "        outputs = model(images)  # Raw logits\n",
        "        probabilities = F.softmax(outputs, dim=1)  # Convert logits to probabilities\n",
        "        y_true_test.extend(labels.cpu().numpy())  # Store actual labels\n",
        "        y_pred_test.extend(outputs.argmax(1).cpu().numpy())  # Store predicted labels\n",
        "        y_probs.extend(probabilities.cpu().numpy())  # Store probability scores for log loss\n",
        "\n",
        "# Convert lists to NumPy arrays\n",
        "y_true_test = np.array(y_true_test)\n",
        "y_pred_test = np.array(y_pred_test)\n",
        "y_probs = np.array(y_probs)\n",
        "\n",
        "# Save test labels and predictions for future use\n",
        "np.save(os.path.join(OUTPUT_DIR, \"y_true_test.npy\"), y_true_test)\n",
        "np.save(os.path.join(OUTPUT_DIR, \"y_pred_test.npy\"), y_pred_test)\n",
        "\n",
        "# Generate Classification Report\n",
        "report = classification_report(y_true_test, y_pred_test, target_names=CLASS_NAMES, digits=4)\n",
        "accuracy = accuracy_score(y_true_test, y_pred_test)\n",
        "kappa = cohen_kappa_score(y_true_test, y_pred_test)\n",
        "logloss = log_loss(y_true_test, y_probs)\n",
        "\n",
        "print(\"\\n **Per-Class Performance:**\")\n",
        "print(report)\n",
        "\n",
        "print(\"\\n **Overall Metrics:**\")\n",
        "print(f\" Accuracy: {accuracy:.4f}\")\n",
        "print(f\" Log Loss: {logloss:.4f}\")\n",
        "print(f\" Cohen's Kappa Score: {kappa:.4f}\")\n",
        "\n",
        "print(\"\\nSaved test labels and predictions as .npy files for further analysis.\")\n"
      ]
    },
    {
      "cell_type": "code",
      "execution_count": 35,
      "metadata": {
        "colab": {
          "base_uri": "https://localhost:8080/",
          "height": 404
        },
        "execution": {
          "iopub.execute_input": "2025-02-26T06:34:29.171797Z",
          "iopub.status.busy": "2025-02-26T06:34:29.171486Z",
          "iopub.status.idle": "2025-02-26T06:34:29.391256Z",
          "shell.execute_reply": "2025-02-26T06:34:29.390394Z",
          "shell.execute_reply.started": "2025-02-26T06:34:29.171772Z"
        },
        "id": "fkBWLyD8o1mI",
        "outputId": "2055c298-a48d-4fb4-fcee-fe246848e624",
        "trusted": true
      },
      "outputs": [
        {
          "data": {
            "image/png": "[encoded data removed]",
            "text/plain": [
              "<Figure size 400x400 with 1 Axes>"
            ]
          },
          "metadata": {},
          "output_type": "display_data"
        },
        {
          "name": "stdout",
          "output_type": "stream",
          "text": [
            "Image tested\n",
            "Predicted class: nor\n"
          ]
        }
      ],
      "source": [
        "from PIL import Image\n",
        "\n",
        "# Set the path to a specific test image\n",
        "image_path = \"../colon-endoscopy-dataset/test/0_normal/test_normal_ (104).jpg\"\n",
        "\n",
        "# Load and preprocess the image\n",
        "image = Image.open(image_path).convert(\"RGB\")\n",
        "transform = transforms.Compose([\n",
        "    transforms.Resize((IMAGE_SIZE, IMAGE_SIZE)),\n",
        "    transforms.ToTensor(),\n",
        "    transforms.Normalize([0.485, 0.456, 0.406], [0.229, 0.224, 0.225])\n",
        "])\n",
        "input_tensor = transform(image).unsqueeze(0).to(DEVICE)\n",
        "\n",
        "# Run model inference\n",
        "model.eval()\n",
        "with torch.no_grad():\n",
        "    output = model(input_tensor)\n",
        "    predicted_class = output.argmax(1).item()\n",
        "\n",
        "plt.figure(figsize=(4, 4))\n",
        "plt.imshow(image)\n",
        "plt.axis(\"off\")\n",
        "plt.title(f\"Predicted: {CLASS_NAMES[predicted_class]}\")\n",
        "plt.show()\n",
        "\n",
        "print(f\"Image tested\\nPredicted class: {CLASS_NAMES[predicted_class]}\")\n"
      ]
    },
    {
      "cell_type": "code",
      "execution_count": 37,
      "metadata": {
        "execution": {
          "iopub.execute_input": "2025-02-26T06:45:09.272565Z",
          "iopub.status.busy": "2025-02-26T06:45:09.27227Z",
          "iopub.status.idle": "2025-02-26T06:45:09.426061Z",
          "shell.execute_reply": "2025-02-26T06:45:09.425245Z",
          "shell.execute_reply.started": "2025-02-26T06:45:09.272543Z"
        },
        "id": "PsDXlEc8AaZY",
        "outputId": "74c95e70-84d9-482c-d1a7-cd38c7c49dd7",
        "trusted": true
      },
      "outputs": [
        {
          "data": {
            "image/png": "[encoded data removed]",
            "text/plain": [
              "<Figure size 400x300 with 1 Axes>"
            ]
          },
          "metadata": {},
          "output_type": "display_data"
        }
      ],
      "source": [
        "y_true_test = np.load(\"y_true_test.npy\")\n",
        "y_pred_test = np.load(\"y_pred_test.npy\")\n",
        "\n",
        "# Compute per-class accuracy\n",
        "report = classification_report(y_true_test, y_pred_test, target_names=CLASS_NAMES, output_dict=True)\n",
        "class_accuracies = [report[label][\"recall\"] * 100 for label in CLASS_NAMES]\n",
        "\n",
        "# Plot Bar Chart\n",
        "plt.figure(figsize=(4, 3))\n",
        "plt.bar(CLASS_NAMES, class_accuracies, color=['blue', 'orange', 'green', 'red'])\n",
        "plt.xlabel(\"Class\")\n",
        "plt.ylabel(\"Test Accuracy (%)\")\n",
        "plt.ylim(90, 100.2)\n",
        "plt.title(\"Per-Class Accuracy\")\n",
        "plt.grid(axis=\"y\", linestyle=\"--\", alpha=0.7)\n",
        "plt.show()\n"
      ]
    },
    {
      "cell_type": "code",
      "execution_count": null,
      "metadata": {
        "execution": {
          "iopub.execute_input": "2025-02-26T06:34:29.55611Z",
          "iopub.status.busy": "2025-02-26T06:34:29.555767Z",
          "iopub.status.idle": "2025-02-26T06:34:29.682662Z",
          "shell.execute_reply": "2025-02-26T06:34:29.68195Z",
          "shell.execute_reply.started": "2025-02-26T06:34:29.556077Z"
        },
        "id": "tgtglet-AaZY",
        "outputId": "def42c4d-2d05-460c-f5f7-a84ac9261d9f",
        "trusted": true
      },
      "outputs": [
        {
          "data": {
            "image/png": "[encoded data removed]",
            "text/plain": [
              "<Figure size 400x400 with 1 Axes>"
            ]
          },
          "metadata": {},
          "output_type": "display_data"
        }
      ],
      "source": [
        "# Compute Test Confusion Matrix\n",
        "cm = confusion_matrix(y_true_test, y_pred_test)\n",
        "class_names = CLASS_NAMES\n",
        "\n",
        "# Plot Confusion Matrix\n",
        "plt.figure(figsize=(4,4))\n",
        "sns.heatmap(cm, annot=True, fmt=\"d\", cmap=\"Blues\", xticklabels=class_names, yticklabels=class_names, cbar = False, annot_kws={\"size\": 12})\n",
        "plt.xlabel(\"Predicted\")\n",
        "plt.ylabel(\"Actual\")\n",
        "plt.title(\"Test Confusion Matrix\")\n",
        "plt.show()\n",
        "\n"
      ]
    },
    {
      "cell_type": "code",
      "execution_count": null,
      "metadata": {
        "execution": {
          "iopub.execute_input": "2025-02-26T06:44:00.657Z",
          "iopub.status.busy": "2025-02-26T06:44:00.656715Z",
          "iopub.status.idle": "2025-02-26T06:44:02.573376Z",
          "shell.execute_reply": "2025-02-26T06:44:02.572499Z",
          "shell.execute_reply.started": "2025-02-26T06:44:00.656978Z"
        },
        "id": "dnJonCW5AaZY",
        "outputId": "3a275949-ad55-4c5d-ce99-4c75e0a9c9b1",
        "trusted": true
      },
      "outputs": [
        {
          "data": {
            "image/png": "[encoded data removed]",
            "text/plain": [
              "<Figure size 1600x400 with 4 Axes>"
            ]
          },
          "metadata": {},
          "output_type": "display_data"
        }
      ],
      "source": [
        "from sklearn.metrics import confusion_matrix, roc_curve, auc\n",
        "\n",
        "plt.rcParams[\"font.family\"] = \"Times New Roman\"\n",
        "\n",
        "csv_file_path = os.path.join(OUTPUT_DIR, \"training_logs.csv\")\n",
        "df = pd.read_csv(csv_file_path)\n",
        "\n",
        "epochs = df[\"Epoch\"].values\n",
        "train_losses = df[\"Train Loss\"].values\n",
        "valid_losses = df[\"Validation Loss\"].values\n",
        "train_accuracies = df[\"Train Accuracy\"].values\n",
        "valid_accuracies = df[\"Validation Accuracy\"].values\n",
        "\n",
        "best_epoch = np.argmin(valid_losses) + 1\n",
        "\n",
        "# Load test dataset predictions\n",
        "y_true_test = np.load(os.path.join(OUTPUT_DIR, \"y_true_test.npy\"))\n",
        "y_pred_test = np.load(os.path.join(OUTPUT_DIR, \"y_pred_test.npy\"))\n",
        "\n",
        "# Define class names\n",
        "CLASS_NAMES = [\"nor\", \"ulc\", \"pls\", \"eps\"]\n",
        "\n",
        "# Adjusted Figure Size\n",
        "fig, axes = plt.subplots(1, 4, figsize=(16, 4), gridspec_kw={'width_ratios': [4, 4, 4, 3]})\n",
        "\n",
        "# Accuracy Plot\n",
        "axes[0].plot(epochs, train_accuracies, label=\"Train Accuracy\", color='brown', linewidth=1.5)\n",
        "axes[0].plot(epochs, valid_accuracies, label=\"Validation Accuracy\", color='blue', linewidth=1.5)\n",
        "axes[0].axvline(best_epoch, color='r', linestyle='--', linewidth=1, label=f\"Best Epoch: {best_epoch}\")\n",
        "axes[0].set_ylim(90, 100.2)\n",
        "axes[0].set_title(\"Model Accuracy\", fontsize=12)\n",
        "axes[0].legend(fontsize=12, loc=\"lower right\")\n",
        "axes[0].tick_params(axis='both', labelsize=12)\n",
        "axes[0].grid(alpha=0.3)\n",
        "\n",
        "# Loss Plot\n",
        "axes[1].plot(epochs, train_losses, label=\"Train Loss\", color='brown', linewidth=1.5)\n",
        "axes[1].plot(epochs, valid_losses, label=\"Validation Loss\", color='blue', linewidth=1.5)\n",
        "axes[1].axvline(best_epoch, color='r', linestyle='--', linewidth=1, label=f\"Best Epoch: {best_epoch}\")\n",
        "axes[1].set_ylim(-0.01, 0.5)\n",
        "axes[1].set_title(\"Model Loss\", fontsize=12)\n",
        "axes[1].legend(fontsize=12, loc=\"upper right\")\n",
        "axes[1].tick_params(axis='both', labelsize=12)\n",
        "axes[1].grid(alpha=0.3)\n",
        "\n",
        "# ROC-AUC Curve\n",
        "for i, class_name in enumerate(CLASS_NAMES):\n",
        "    fpr, tpr, _ = roc_curve(y_true_test == i, y_probs[:, i])  # Compute ROC\n",
        "    roc_auc = auc(fpr, tpr)  # Compute AUC\n",
        "    axes[2].plot(fpr, tpr, label=f\"{class_name} (AUC = {roc_auc:.2f})\", linewidth=1.2)\n",
        "\n",
        "axes[2].set_xlabel(\"False Positive Rate\", fontsize=12)\n",
        "axes[2].set_ylabel(\"True Positive Rate\", fontsize=12)\n",
        "axes[2].set_title(\"ROC-AUC Curve\", fontsize=12)\n",
        "axes[2].set_ylim(0.96, 1.001)\n",
        "axes[2].grid(alpha=0.3)\n",
        "axes[2].tick_params(axis='both', labelsize=12)\n",
        "axes[2].legend(fontsize=10, loc='lower right')\n",
        "\n",
        "# Testing Confusion Matrix\n",
        "cm_test = confusion_matrix(y_true_test, y_pred_test)\n",
        "sns.heatmap(cm_test, annot=True, fmt=\"d\", cmap=\"Blues\", xticklabels=CLASS_NAMES, yticklabels=CLASS_NAMES, ax=axes[3], cbar=False, annot_kws={\"size\": 14})\n",
        "axes[3].set_xlabel(\"Predicted\", fontsize=12)\n",
        "axes[3].set_ylabel(\"Actual\", fontsize=12)\n",
        "axes[3].set_title(\"Confusion Matrix\", fontsize=12)\n",
        "axes[3].tick_params(axis='both', labelsize=12)\n",
        "axes[3].set_aspect(\"equal\")\n",
        "\n",
        "plt.tight_layout()\n",
        "plt.savefig(os.path.join(OUTPUT_DIR, 'Results_plots_with_test_cm.png'), dpi=300, bbox_inches=\"tight\")\n",
        "plt.show()\n"
      ]
    }
  ],
  "metadata": {
    "accelerator": "GPU",
    "colab": {
      "gpuType": "T4",
      "provenance": [],
      "toc_visible": true
    },
    "kaggle": {
      "accelerator": "nvidiaTeslaT4",
      "dataSources": [
        {
          "datasetId": 6683249,
          "sourceId": 10772625,
          "sourceType": "datasetVersion"
        }
      ],
      "dockerImageVersionId": 30887,
      "isGpuEnabled": true,
      "isInternetEnabled": true,
      "language": "python",
      "sourceType": "notebook"
    },
    "kernelspec": {
      "display_name": "base",
      "language": "python",
      "name": "python3"
    },
    "language_info": {
      "codemirror_mode": {
        "name": "ipython",
        "version": 3
      },
      "file_extension": ".py",
      "mimetype": "text/x-python",
      "name": "python",
      "nbconvert_exporter": "python",
      "pygments_lexer": "ipython3",
      "version": "3.12.4"
    }
  },
  "nbformat": 4,
  "nbformat_minor": 0
}
